{
 "cells": [
  {
   "cell_type": "markdown",
   "metadata": {},
   "source": [
    "# Compatible true vs observed associations"
   ]
  },
  {
   "cell_type": "markdown",
   "metadata": {
    "tags": []
   },
   "source": [
    "When a given observation strength is estimated with CCA or PLS, what could have been the true association strength?"
   ]
  },
  {
   "cell_type": "markdown",
   "metadata": {},
   "source": [
    "## Setup"
   ]
  },
  {
   "cell_type": "code",
   "execution_count": 1,
   "metadata": {},
   "outputs": [
    {
     "data": {
      "application/javascript": "(function(root) {\n  function now() {\n    return new Date();\n  }\n\n  var force = true;\n  var py_version = '3.1.1'.replace('rc', '-rc.').replace('.dev', '-dev.');\n  var is_dev = py_version.indexOf(\"+\") !== -1 || py_version.indexOf(\"-\") !== -1;\n  var reloading = false;\n  var Bokeh = root.Bokeh;\n  var bokeh_loaded = Bokeh != null && (Bokeh.version === py_version || (Bokeh.versions !== undefined && Bokeh.versions.has(py_version)));\n\n  if (typeof (root._bokeh_timeout) === \"undefined\" || force) {\n    root._bokeh_timeout = Date.now() + 5000;\n    root._bokeh_failed_load = false;\n  }\n\n  function run_callbacks() {\n    try {\n      root._bokeh_onload_callbacks.forEach(function(callback) {\n        if (callback != null)\n          callback();\n      });\n    } finally {\n      delete root._bokeh_onload_callbacks;\n    }\n    console.debug(\"Bokeh: all callbacks have finished\");\n  }\n\n  function load_libs(css_urls, js_urls, js_modules, js_exports, callback) {\n    if (css_urls == null) css_urls = [];\n    if (js_urls == null) js_urls = [];\n    if (js_modules == null) js_modules = [];\n    if (js_exports == null) js_exports = {};\n\n    root._bokeh_onload_callbacks.push(callback);\n\n    if (root._bokeh_is_loading > 0) {\n      console.debug(\"Bokeh: BokehJS is being loaded, scheduling callback at\", now());\n      return null;\n    }\n    if (js_urls.length === 0 && js_modules.length === 0 && Object.keys(js_exports).length === 0) {\n      run_callbacks();\n      return null;\n    }\n    if (!reloading) {\n      console.debug(\"Bokeh: BokehJS not loaded, scheduling load and callback at\", now());\n    }\n\n    function on_load() {\n      root._bokeh_is_loading--;\n      if (root._bokeh_is_loading === 0) {\n        console.debug(\"Bokeh: all BokehJS libraries/stylesheets loaded\");\n        run_callbacks()\n      }\n    }\n    window._bokeh_on_load = on_load\n\n    function on_error() {\n      console.error(\"failed to load \" + url);\n    }\n\n    var skip = [];\n    if (window.requirejs) {\n      window.requirejs.config({'packages': {}, 'paths': {'jspanel': 'https://cdn.jsdelivr.net/npm/jspanel4@4.12.0/dist/jspanel', 'jspanel-modal': 'https://cdn.jsdelivr.net/npm/jspanel4@4.12.0/dist/extensions/modal/jspanel.modal', 'jspanel-tooltip': 'https://cdn.jsdelivr.net/npm/jspanel4@4.12.0/dist/extensions/tooltip/jspanel.tooltip', 'jspanel-hint': 'https://cdn.jsdelivr.net/npm/jspanel4@4.12.0/dist/extensions/hint/jspanel.hint', 'jspanel-layout': 'https://cdn.jsdelivr.net/npm/jspanel4@4.12.0/dist/extensions/layout/jspanel.layout', 'jspanel-contextmenu': 'https://cdn.jsdelivr.net/npm/jspanel4@4.12.0/dist/extensions/contextmenu/jspanel.contextmenu', 'jspanel-dock': 'https://cdn.jsdelivr.net/npm/jspanel4@4.12.0/dist/extensions/dock/jspanel.dock', 'gridstack': 'https://cdn.jsdelivr.net/npm/gridstack@7.2.3/dist/gridstack-all', 'notyf': 'https://cdn.jsdelivr.net/npm/notyf@3/notyf.min'}, 'shim': {'jspanel': {'exports': 'jsPanel'}, 'gridstack': {'exports': 'GridStack'}}});\n      require([\"jspanel\"], function(jsPanel) {\n\twindow.jsPanel = jsPanel\n\ton_load()\n      })\n      require([\"jspanel-modal\"], function() {\n\ton_load()\n      })\n      require([\"jspanel-tooltip\"], function() {\n\ton_load()\n      })\n      require([\"jspanel-hint\"], function() {\n\ton_load()\n      })\n      require([\"jspanel-layout\"], function() {\n\ton_load()\n      })\n      require([\"jspanel-contextmenu\"], function() {\n\ton_load()\n      })\n      require([\"jspanel-dock\"], function() {\n\ton_load()\n      })\n      require([\"gridstack\"], function(GridStack) {\n\twindow.GridStack = GridStack\n\ton_load()\n      })\n      require([\"notyf\"], function() {\n\ton_load()\n      })\n      root._bokeh_is_loading = css_urls.length + 9;\n    } else {\n      root._bokeh_is_loading = css_urls.length + js_urls.length + js_modules.length + Object.keys(js_exports).length;\n    }\n\n    var existing_stylesheets = []\n    var links = document.getElementsByTagName('link')\n    for (var i = 0; i < links.length; i++) {\n      var link = links[i]\n      if (link.href != null) {\n\texisting_stylesheets.push(link.href)\n      }\n    }\n    for (var i = 0; i < css_urls.length; i++) {\n      var url = css_urls[i];\n      if (existing_stylesheets.indexOf(url) !== -1) {\n\ton_load()\n\tcontinue;\n      }\n      const element = document.createElement(\"link\");\n      element.onload = on_load;\n      element.onerror = on_error;\n      element.rel = \"stylesheet\";\n      element.type = \"text/css\";\n      element.href = url;\n      console.debug(\"Bokeh: injecting link tag for BokehJS stylesheet: \", url);\n      document.body.appendChild(element);\n    }    if (((window['jsPanel'] !== undefined) && (!(window['jsPanel'] instanceof HTMLElement))) || window.requirejs) {\n      var urls = ['https://cdn.holoviz.org/panel/1.2.3/dist/bundled/floatpanel/jspanel4@4.12.0/dist/jspanel.js', 'https://cdn.holoviz.org/panel/1.2.3/dist/bundled/floatpanel/jspanel4@4.12.0/dist/extensions/modal/jspanel.modal.js', 'https://cdn.holoviz.org/panel/1.2.3/dist/bundled/floatpanel/jspanel4@4.12.0/dist/extensions/tooltip/jspanel.tooltip.js', 'https://cdn.holoviz.org/panel/1.2.3/dist/bundled/floatpanel/jspanel4@4.12.0/dist/extensions/hint/jspanel.hint.js', 'https://cdn.holoviz.org/panel/1.2.3/dist/bundled/floatpanel/jspanel4@4.12.0/dist/extensions/layout/jspanel.layout.js', 'https://cdn.holoviz.org/panel/1.2.3/dist/bundled/floatpanel/jspanel4@4.12.0/dist/extensions/contextmenu/jspanel.contextmenu.js', 'https://cdn.holoviz.org/panel/1.2.3/dist/bundled/floatpanel/jspanel4@4.12.0/dist/extensions/dock/jspanel.dock.js'];\n      for (var i = 0; i < urls.length; i++) {\n        skip.push(urls[i])\n      }\n    }    if (((window['GridStack'] !== undefined) && (!(window['GridStack'] instanceof HTMLElement))) || window.requirejs) {\n      var urls = ['https://cdn.holoviz.org/panel/1.2.3/dist/bundled/gridstack/gridstack@7.2.3/dist/gridstack-all.js'];\n      for (var i = 0; i < urls.length; i++) {\n        skip.push(urls[i])\n      }\n    }    if (((window['Notyf'] !== undefined) && (!(window['Notyf'] instanceof HTMLElement))) || window.requirejs) {\n      var urls = ['https://cdn.holoviz.org/panel/1.2.3/dist/bundled/notificationarea/notyf@3/notyf.min.js'];\n      for (var i = 0; i < urls.length; i++) {\n        skip.push(urls[i])\n      }\n    }    var existing_scripts = []\n    var scripts = document.getElementsByTagName('script')\n    for (var i = 0; i < scripts.length; i++) {\n      var script = scripts[i]\n      if (script.src != null) {\n\texisting_scripts.push(script.src)\n      }\n    }\n    for (var i = 0; i < js_urls.length; i++) {\n      var url = js_urls[i];\n      if (skip.indexOf(url) !== -1 || existing_scripts.indexOf(url) !== -1) {\n\tif (!window.requirejs) {\n\t  on_load();\n\t}\n\tcontinue;\n      }\n      var element = document.createElement('script');\n      element.onload = on_load;\n      element.onerror = on_error;\n      element.async = false;\n      element.src = url;\n      console.debug(\"Bokeh: injecting script tag for BokehJS library: \", url);\n      document.head.appendChild(element);\n    }\n    for (var i = 0; i < js_modules.length; i++) {\n      var url = js_modules[i];\n      if (skip.indexOf(url) !== -1 || existing_scripts.indexOf(url) !== -1) {\n\tif (!window.requirejs) {\n\t  on_load();\n\t}\n\tcontinue;\n      }\n      var element = document.createElement('script');\n      element.onload = on_load;\n      element.onerror = on_error;\n      element.async = false;\n      element.src = url;\n      element.type = \"module\";\n      console.debug(\"Bokeh: injecting script tag for BokehJS library: \", url);\n      document.head.appendChild(element);\n    }\n    for (const name in js_exports) {\n      var url = js_exports[name];\n      if (skip.indexOf(url) >= 0 || root[name] != null) {\n\tif (!window.requirejs) {\n\t  on_load();\n\t}\n\tcontinue;\n      }\n      var element = document.createElement('script');\n      element.onerror = on_error;\n      element.async = false;\n      element.type = \"module\";\n      console.debug(\"Bokeh: injecting script tag for BokehJS library: \", url);\n      element.textContent = `\n      import ${name} from \"${url}\"\n      window.${name} = ${name}\n      window._bokeh_on_load()\n      `\n      document.head.appendChild(element);\n    }\n    if (!js_urls.length && !js_modules.length) {\n      on_load()\n    }\n  };\n\n  function inject_raw_css(css) {\n    const element = document.createElement(\"style\");\n    element.appendChild(document.createTextNode(css));\n    document.body.appendChild(element);\n  }\n\n  var js_urls = [\"https://cdn.bokeh.org/bokeh/release/bokeh-3.1.1.min.js\", \"https://cdn.bokeh.org/bokeh/release/bokeh-gl-3.1.1.min.js\", \"https://cdn.bokeh.org/bokeh/release/bokeh-widgets-3.1.1.min.js\", \"https://cdn.bokeh.org/bokeh/release/bokeh-tables-3.1.1.min.js\", \"https://cdn.holoviz.org/panel/1.2.3/dist/panel.min.js\"];\n  var js_modules = [];\n  var js_exports = {};\n  var css_urls = [];\n  var inline_js = [    function(Bokeh) {\n      Bokeh.set_log_level(\"info\");\n    },\nfunction(Bokeh) {} // ensure no trailing comma for IE\n  ];\n\n  function run_inline_js() {\n    if ((root.Bokeh !== undefined) || (force === true)) {\n      for (var i = 0; i < inline_js.length; i++) {\n        inline_js[i].call(root, root.Bokeh);\n      }\n      // Cache old bokeh versions\n      if (Bokeh != undefined && !reloading) {\n\tvar NewBokeh = root.Bokeh;\n\tif (Bokeh.versions === undefined) {\n\t  Bokeh.versions = new Map();\n\t}\n\tif (NewBokeh.version !== Bokeh.version) {\n\t  Bokeh.versions.set(NewBokeh.version, NewBokeh)\n\t}\n\troot.Bokeh = Bokeh;\n      }} else if (Date.now() < root._bokeh_timeout) {\n      setTimeout(run_inline_js, 100);\n    } else if (!root._bokeh_failed_load) {\n      console.log(\"Bokeh: BokehJS failed to load within specified timeout.\");\n      root._bokeh_failed_load = true;\n    }\n    root._bokeh_is_initializing = false\n  }\n\n  function load_or_wait() {\n    // Implement a backoff loop that tries to ensure we do not load multiple\n    // versions of Bokeh and its dependencies at the same time.\n    // In recent versions we use the root._bokeh_is_initializing flag\n    // to determine whether there is an ongoing attempt to initialize\n    // bokeh, however for backward compatibility we also try to ensure\n    // that we do not start loading a newer (Panel>=1.0 and Bokeh>3) version\n    // before older versions are fully initialized.\n    if (root._bokeh_is_initializing && Date.now() > root._bokeh_timeout) {\n      root._bokeh_is_initializing = false;\n      root._bokeh_onload_callbacks = undefined;\n      console.log(\"Bokeh: BokehJS was loaded multiple times but one version failed to initialize.\");\n      load_or_wait();\n    } else if (root._bokeh_is_initializing || (typeof root._bokeh_is_initializing === \"undefined\" && root._bokeh_onload_callbacks !== undefined)) {\n      setTimeout(load_or_wait, 100);\n    } else {\n      Bokeh = root.Bokeh;\n      bokeh_loaded = Bokeh != null && (Bokeh.version === py_version || (Bokeh.versions !== undefined && Bokeh.versions.has(py_version)));\n      root._bokeh_is_initializing = true\n      root._bokeh_onload_callbacks = []\n      if (!reloading && (!bokeh_loaded || is_dev)) {\n\troot.Bokeh = undefined;\n      }\n      load_libs(css_urls, js_urls, js_modules, js_exports, function() {\n\tconsole.debug(\"Bokeh: BokehJS plotting callback run at\", now());\n\trun_inline_js();\n      });\n    }\n  }\n  // Give older versions of the autoload script a head-start to ensure\n  // they initialize before we start loading newer version.\n  setTimeout(load_or_wait, 100)\n}(window));",
      "application/vnd.holoviews_load.v0+json": ""
     },
     "metadata": {},
     "output_type": "display_data"
    },
    {
     "data": {
      "application/javascript": "\nif ((window.PyViz === undefined) || (window.PyViz instanceof HTMLElement)) {\n  window.PyViz = {comms: {}, comm_status:{}, kernels:{}, receivers: {}, plot_index: []}\n}\n\n\n    function JupyterCommManager() {\n    }\n\n    JupyterCommManager.prototype.register_target = function(plot_id, comm_id, msg_handler) {\n      if (window.comm_manager || ((window.Jupyter !== undefined) && (Jupyter.notebook.kernel != null))) {\n        var comm_manager = window.comm_manager || Jupyter.notebook.kernel.comm_manager;\n        comm_manager.register_target(comm_id, function(comm) {\n          comm.on_msg(msg_handler);\n        });\n      } else if ((plot_id in window.PyViz.kernels) && (window.PyViz.kernels[plot_id])) {\n        window.PyViz.kernels[plot_id].registerCommTarget(comm_id, function(comm) {\n          comm.onMsg = msg_handler;\n        });\n      } else if (typeof google != 'undefined' && google.colab.kernel != null) {\n        google.colab.kernel.comms.registerTarget(comm_id, (comm) => {\n          var messages = comm.messages[Symbol.asyncIterator]();\n          function processIteratorResult(result) {\n            var message = result.value;\n            console.log(message)\n            var content = {data: message.data, comm_id};\n            var buffers = []\n            for (var buffer of message.buffers || []) {\n              buffers.push(new DataView(buffer))\n            }\n            var metadata = message.metadata || {};\n            var msg = {content, buffers, metadata}\n            msg_handler(msg);\n            return messages.next().then(processIteratorResult);\n          }\n          return messages.next().then(processIteratorResult);\n        })\n      }\n    }\n\n    JupyterCommManager.prototype.get_client_comm = function(plot_id, comm_id, msg_handler) {\n      if (comm_id in window.PyViz.comms) {\n        return window.PyViz.comms[comm_id];\n      } else if (window.comm_manager || ((window.Jupyter !== undefined) && (Jupyter.notebook.kernel != null))) {\n        var comm_manager = window.comm_manager || Jupyter.notebook.kernel.comm_manager;\n        var comm = comm_manager.new_comm(comm_id, {}, {}, {}, comm_id);\n        if (msg_handler) {\n          comm.on_msg(msg_handler);\n        }\n      } else if ((plot_id in window.PyViz.kernels) && (window.PyViz.kernels[plot_id])) {\n        var comm = window.PyViz.kernels[plot_id].connectToComm(comm_id);\n        comm.open();\n        if (msg_handler) {\n          comm.onMsg = msg_handler;\n        }\n      } else if (typeof google != 'undefined' && google.colab.kernel != null) {\n        var comm_promise = google.colab.kernel.comms.open(comm_id)\n        comm_promise.then((comm) => {\n          window.PyViz.comms[comm_id] = comm;\n          if (msg_handler) {\n            var messages = comm.messages[Symbol.asyncIterator]();\n            function processIteratorResult(result) {\n              var message = result.value;\n              var content = {data: message.data};\n              var metadata = message.metadata || {comm_id};\n              var msg = {content, metadata}\n              msg_handler(msg);\n              return messages.next().then(processIteratorResult);\n            }\n            return messages.next().then(processIteratorResult);\n          }\n        }) \n        var sendClosure = (data, metadata, buffers, disposeOnDone) => {\n          return comm_promise.then((comm) => {\n            comm.send(data, metadata, buffers, disposeOnDone);\n          });\n        };\n        var comm = {\n          send: sendClosure\n        };\n      }\n      window.PyViz.comms[comm_id] = comm;\n      return comm;\n    }\n    window.PyViz.comm_manager = new JupyterCommManager();\n    \n\n\nvar JS_MIME_TYPE = 'application/javascript';\nvar HTML_MIME_TYPE = 'text/html';\nvar EXEC_MIME_TYPE = 'application/vnd.holoviews_exec.v0+json';\nvar CLASS_NAME = 'output';\n\n/**\n * Render data to the DOM node\n */\nfunction render(props, node) {\n  var div = document.createElement(\"div\");\n  var script = document.createElement(\"script\");\n  node.appendChild(div);\n  node.appendChild(script);\n}\n\n/**\n * Handle when a new output is added\n */\nfunction handle_add_output(event, handle) {\n  var output_area = handle.output_area;\n  var output = handle.output;\n  if ((output.data == undefined) || (!output.data.hasOwnProperty(EXEC_MIME_TYPE))) {\n    return\n  }\n  var id = output.metadata[EXEC_MIME_TYPE][\"id\"];\n  var toinsert = output_area.element.find(\".\" + CLASS_NAME.split(' ')[0]);\n  if (id !== undefined) {\n    var nchildren = toinsert.length;\n    var html_node = toinsert[nchildren-1].children[0];\n    html_node.innerHTML = output.data[HTML_MIME_TYPE];\n    var scripts = [];\n    var nodelist = html_node.querySelectorAll(\"script\");\n    for (var i in nodelist) {\n      if (nodelist.hasOwnProperty(i)) {\n        scripts.push(nodelist[i])\n      }\n    }\n\n    scripts.forEach( function (oldScript) {\n      var newScript = document.createElement(\"script\");\n      var attrs = [];\n      var nodemap = oldScript.attributes;\n      for (var j in nodemap) {\n        if (nodemap.hasOwnProperty(j)) {\n          attrs.push(nodemap[j])\n        }\n      }\n      attrs.forEach(function(attr) { newScript.setAttribute(attr.name, attr.value) });\n      newScript.appendChild(document.createTextNode(oldScript.innerHTML));\n      oldScript.parentNode.replaceChild(newScript, oldScript);\n    });\n    if (JS_MIME_TYPE in output.data) {\n      toinsert[nchildren-1].children[1].textContent = output.data[JS_MIME_TYPE];\n    }\n    output_area._hv_plot_id = id;\n    if ((window.Bokeh !== undefined) && (id in Bokeh.index)) {\n      window.PyViz.plot_index[id] = Bokeh.index[id];\n    } else {\n      window.PyViz.plot_index[id] = null;\n    }\n  } else if (output.metadata[EXEC_MIME_TYPE][\"server_id\"] !== undefined) {\n    var bk_div = document.createElement(\"div\");\n    bk_div.innerHTML = output.data[HTML_MIME_TYPE];\n    var script_attrs = bk_div.children[0].attributes;\n    for (var i = 0; i < script_attrs.length; i++) {\n      toinsert[toinsert.length - 1].childNodes[1].setAttribute(script_attrs[i].name, script_attrs[i].value);\n    }\n    // store reference to server id on output_area\n    output_area._bokeh_server_id = output.metadata[EXEC_MIME_TYPE][\"server_id\"];\n  }\n}\n\n/**\n * Handle when an output is cleared or removed\n */\nfunction handle_clear_output(event, handle) {\n  var id = handle.cell.output_area._hv_plot_id;\n  var server_id = handle.cell.output_area._bokeh_server_id;\n  if (((id === undefined) || !(id in PyViz.plot_index)) && (server_id !== undefined)) { return; }\n  var comm = window.PyViz.comm_manager.get_client_comm(\"hv-extension-comm\", \"hv-extension-comm\", function () {});\n  if (server_id !== null) {\n    comm.send({event_type: 'server_delete', 'id': server_id});\n    return;\n  } else if (comm !== null) {\n    comm.send({event_type: 'delete', 'id': id});\n  }\n  delete PyViz.plot_index[id];\n  if ((window.Bokeh !== undefined) & (id in window.Bokeh.index)) {\n    var doc = window.Bokeh.index[id].model.document\n    doc.clear();\n    const i = window.Bokeh.documents.indexOf(doc);\n    if (i > -1) {\n      window.Bokeh.documents.splice(i, 1);\n    }\n  }\n}\n\n/**\n * Handle kernel restart event\n */\nfunction handle_kernel_cleanup(event, handle) {\n  delete PyViz.comms[\"hv-extension-comm\"];\n  window.PyViz.plot_index = {}\n}\n\n/**\n * Handle update_display_data messages\n */\nfunction handle_update_output(event, handle) {\n  handle_clear_output(event, {cell: {output_area: handle.output_area}})\n  handle_add_output(event, handle)\n}\n\nfunction register_renderer(events, OutputArea) {\n  function append_mime(data, metadata, element) {\n    // create a DOM node to render to\n    var toinsert = this.create_output_subarea(\n    metadata,\n    CLASS_NAME,\n    EXEC_MIME_TYPE\n    );\n    this.keyboard_manager.register_events(toinsert);\n    // Render to node\n    var props = {data: data, metadata: metadata[EXEC_MIME_TYPE]};\n    render(props, toinsert[0]);\n    element.append(toinsert);\n    return toinsert\n  }\n\n  events.on('output_added.OutputArea', handle_add_output);\n  events.on('output_updated.OutputArea', handle_update_output);\n  events.on('clear_output.CodeCell', handle_clear_output);\n  events.on('delete.Cell', handle_clear_output);\n  events.on('kernel_ready.Kernel', handle_kernel_cleanup);\n\n  OutputArea.prototype.register_mime_type(EXEC_MIME_TYPE, append_mime, {\n    safe: true,\n    index: 0\n  });\n}\n\nif (window.Jupyter !== undefined) {\n  try {\n    var events = require('base/js/events');\n    var OutputArea = require('notebook/js/outputarea').OutputArea;\n    if (OutputArea.prototype.mime_types().indexOf(EXEC_MIME_TYPE) == -1) {\n      register_renderer(events, OutputArea);\n    }\n  } catch(err) {\n  }\n}\n",
      "application/vnd.holoviews_load.v0+json": ""
     },
     "metadata": {},
     "output_type": "display_data"
    },
    {
     "data": {
      "text/html": [
       "<style>*[data-root-id],\n",
       "*[data-root-id] > * {\n",
       "  box-sizing: border-box;\n",
       "  font-family: var(--jp-ui-font-family);\n",
       "  font-size: var(--jp-ui-font-size1);\n",
       "  color: var(--vscode-editor-foreground, var(--jp-ui-font-color1));\n",
       "}\n",
       "\n",
       "/* Override VSCode background color */\n",
       ".cell-output-ipywidget-background:has(\n",
       "    > .cell-output-ipywidget-background > .lm-Widget > *[data-root-id]\n",
       "  ),\n",
       ".cell-output-ipywidget-background:has(> .lm-Widget > *[data-root-id]) {\n",
       "  background-color: transparent !important;\n",
       "}\n",
       "</style>"
      ]
     },
     "metadata": {},
     "output_type": "display_data"
    },
    {
     "data": {
      "text/html": [
       "\n",
       "<div class=\"logo-block\">\n",
       "<img src='data:image/png;base64,iVBORw0KGgoAAAANSUhEUgAAAEAAAABACAYAAACqaXHeAAAABHNCSVQICAgIfAhkiAAAAAlwSFlz\n",
       "AAAB+wAAAfsBxc2miwAAABl0RVh0U29mdHdhcmUAd3d3Lmlua3NjYXBlLm9yZ5vuPBoAAA6zSURB\n",
       "VHic7ZtpeFRVmsf/5966taWqUlUJ2UioBBJiIBAwCZtog9IOgjqACsogKtqirT2ttt069nQ/zDzt\n",
       "tI4+CrJIREFaFgWhBXpUNhHZQoKBkIUASchWla1S+3ar7r1nPkDaCAnZKoQP/D7mnPOe9/xy76n3\n",
       "nFSAW9ziFoPFNED2LLK5wcyBDObkb8ZkxuaoSYlI6ZcOKq1eWFdedqNzGHQBk9RMEwFAASkk0Xw3\n",
       "ETacDNi2vtvc7L0ROdw0AjoSotQVkKSvHQz/wRO1lScGModBFbDMaNRN1A4tUBCS3lk7BWhQkgpD\n",
       "lG4852/+7DWr1R3uHAZVQDsbh6ZPN7CyxUrCzJMRouusj0ipRwD2uKm0Zn5d2dFwzX1TCGhnmdGo\n",
       "G62Nna+isiUqhkzuKrkQaJlPEv5mFl2fvGg2t/VnzkEV8F5ioioOEWkLG86fvbpthynjdhXYZziQ\n",
       "x1hC9J2NFyi8vCTt91Fh04KGip0AaG9zuCk2wQCVyoNU3Hjezee9bq92duzzTmxsRJoy+jEZZZYo\n",
       "GTKJ6SJngdJqAfRzpze0+jHreUtPc7gpBLQnIYK6BYp/uGhw9YK688eu7v95ysgshcg9qSLMo3JC\n",
       "4jqLKQFBgdKDPoQ+Pltb8dUyQLpeDjeVgI6EgLIQFT5tEl3rn2losHVsexbZ3EyT9wE1uGdkIPcy\n",
       "BGxn8QUq1QrA5nqW5i2tLqvrrM9NK6AdkVIvL9E9bZL/oyfMVd/jqvc8LylzRBKDJSzIExwhQzuL\n",
       "QYGQj4rHfFTc8mUdu3E7yoLtbTe9gI4EqVgVkug2i5+uXGo919ixbRog+3fTbQ8qJe4ZOYNfMoTI\n",
       "OoshUNosgO60AisX15aeI2PSIp5KiFLI9ubb1vV3Qb2ltwLakUCDAkWX7/nHKRmmGIl9VgYsUhJm\n",
       "2NXjKYADtM1ygne9QQDIXlk49FBstMKx66D1v4+XuQr7vqTe0VcBHQlRWiOCbmmSYe2SqtL6q5rJ\n",
       "zsTb7lKx3FKOYC4DoqyS/B5bvLPxvD9Qtf6saxYLQGJErmDOdOMr/zo96km1nElr8bmPOBwI9COv\n",
       "HnFPRIwmkSOv9kcAS4heRsidOkpeWBgZM+UBrTFAXNYL5Vf2ii9c1trNzpYdaoVil3WIc+wdk+gQ\n",
       "noie3ecCcxt9ITcLAPWt/laGEO/9U6PmzZkenTtsSMQ8uYywJVW+grCstAvCIaAdArAsIWkRDDs/\n",
       "KzLm2YcjY1Lv0UdW73HabE9n6V66cxSzfEmuJssTpKGVp+0vHq73FwL46eOjpMpbRAnNmJFrGJNu\n",
       "Ukf9Yrz+3rghiumCKNXXWPhLYcjxGsIpoCMsIRoFITkW8AuyM8jC1+/QLx4bozCEJIq38+1rtpR6\n",
       "V/yzb8eBlRb3fo5l783N0CWolAzJHaVNzkrTzlEp2bQ2q3TC5gn6wpnoQAmwSiGh2GitnTmVMc5O\n",
       "UyfKWUKCIsU7+fZDKwqdT6DDpvkzAX4/+AMFjk0tDp5GRXLpQ2MUmhgDp5gxQT8+Y7hyPsMi8uxF\n",
       "71H0oebujHALECjFKaW9Lm68n18wXp2kVzIcABytD5iXFzg+WVXkegpAsOOYziqo0OkK76GyquC3\n",
       "ltZAzMhhqlSNmmWTE5T6e3IN05ITFLM4GdN0vtZ3ob8Jh1NAKXFbm5PtLU/eqTSlGjkNAJjdgn/N\n",
       "aedXa0tdi7+t9G0FIF49rtMSEgAs1kDLkTPO7ebm4IUWeyh1bKomXqlgMG6kJmHcSM0clYLJ8XtR\n",
       "1GTnbV3F6I5wCGikAb402npp1h1s7LQUZZSMIfALFOuL3UUrfnS8+rez7v9qcold5tilgHbO1fjK\n",
       "9ubb17u9oshxzMiUBKXWqJNxd+fqb0tLVs4lILFnK71H0Ind7uiPgACVcFJlrb0tV6DzxqqTIhUM\n",
       "CwDf1/rrVhTa33/3pGPxJYdQ2l2cbgVcQSosdx8uqnDtbGjh9SlDVSMNWhlnilfqZk42Th2ZpLpf\n",
       "xrHec5e815zrr0dfBZSwzkZfqsv+1FS1KUknUwPARVvItfKUY+cn57yP7qv07UE3p8B2uhUwLk09\n",
       "e0SCOrK+hbdYHYLjRIl71wWzv9jpEoeOHhGRrJAzyEyNiJuUqX0g2sBN5kGK6y2Blp5M3lsB9Qh4\n",
       "y2Ja6x6+i0ucmKgwMATwhSjdUu49tKrQ/pvN5d53ml2CGwCmJipmKjgmyuaXzNeL2a0AkQ01Th5j\n",
       "2DktO3Jyk8f9vcOBQHV94OK+fPumJmvQHxJoWkaKWq9Vs+yUsbq0zGT1I4RgeH2b5wef7+c7bl8F\n",
       "eKgoHVVZa8ZPEORzR6sT1BzDUAD/d9F78e2Tzv99v8D+fLVTqAKAsbGamKey1Mt9Ann4eH3gTXTz\n",
       "idWtAJ8PQWOk7NzSeQn/OTHDuEikVF1R4z8BQCy+6D1aWRfY0tTGG2OM8rRoPaeIj5ZHzJxszElN\n",
       "VM8K8JS5WOfv8mzRnQAKoEhmt8gyPM4lU9SmBK1MCQBnW4KONT86v1hZ1PbwSXPw4JWussVjtH9Y\n",
       "NCoiL9UoH/6PSu8jFrfY2t36erQHXLIEakMi1SydmzB31h3GGXFDFNPaK8Rme9B79Ixrd0WN+1ij\n",
       "NRQ/doRmuFLBkHSTOm5GruG+pFjFdAmorG4IXH1Qua6ASniclfFtDYt+oUjKipPrCQB7QBQ2lrgP\n",
       "fFzm+9XWUtcqJ3/5vDLDpJ79XHZk3u8nGZ42qlj1+ydtbxysCezrydp6ugmipNJ7WBPB5tydY0jP\n",
       "HaVNzs3QzeE4ZpTbI+ZbnSFPbVOw9vsfnVvqWnirPyCNGD08IlqtYkh2hjZ5dErEQzoNm+6ykyOt\n",
       "Lt5/PQEuSRRKo22VkydK+vvS1XEKlhCJAnsqvcVvH7f/ZU2R67eXbMEGAMiIV5oWZWiWvz5Fv2xG\n",
       "sjqNJQRvn3Rs2lji/lNP19VjAQDgD7FHhujZB9OGqYxRkZxixgRDVlqS6uEOFaJUVu0rPFzctrnF\n",
       "JqijImVp8dEKVWyUXDk92zAuMZ6bFwpBU1HrOw6AdhQgUooChb0+ItMbWJitSo5Ws3IAOGEOtL53\n",
       "0vHZih9sC4vtofZ7Qu6523V/fmGcds1TY3V36pUsBwAbSlxnVh2xLfAD/IAIMDf7XYIkNmXfpp2l\n",
       "18rkAJAy9HKFaIr/qULkeQQKy9zf1JgDB2uaeFNGijo5QsUyacNUUTOnGO42xSnv4oOwpDi1zYkc\n",
       "efUc3I5Gk6PhyTuVKaOGyLUAYPGIoY9Pu/atL/L92+4q9wbflRJ2Trpm/jPjdBtfnqB/dIThcl8A\n",
       "KG7hbRuKnb8qsQsVvVlTrwQAQMUlf3kwJI24Z4JhPMtcfng5GcH49GsrxJpGvvHIaeem2ma+KSjQ\n",
       "lIwUdYyCY8j4dE1KzijNnIP2llF2wcXNnsoapw9XxsgYAl6k+KzUXbi2yP3KR2ecf6z3BFsBICdW\n",
       "nvnIaG3eHybqX7vbpEqUMT+9OL4Qpe8VON7dXuFd39v19FoAABRVePbGGuXTszO0P7tu6lghUonE\n",
       "llRdrhArLvmKdh9u29jcFiRRkfLUxBiFNiqSU9icoZQHo5mYBI1MBgBH6wMNb+U7Pnw337H4gi1Y\n",
       "ciWs+uks3Z9fztUvfzxTm9Ne8XXkvQLHNytOOZeiD4e0PgkAIAYCYknKUNUDSXEKzdWNpnil7r4p\n",
       "xqkjTarZMtk/K8TQ6Qve78qqvXurGwIJqcOUKfUWHsm8KGvxSP68YudXq4pcj39X49uOK2X142O0\n",
       "Tz5/u/7TVybqH0rSya6ZBwD21/gubbrgWdDgEOx9WUhfBaC2ibcEBYm7a7x+ukrBMNcEZggyR0TE\n",
       "T8zUPjikQ4VosQZbTpS4vqizBKvqmvjsqnpfzaZyx9JPiz1/bfGKdgD45XB1zoIMzYbfTdS/NClB\n",
       "Gct0USiY3YL/g0LHy/uq/Ef6uo5+n0R/vyhp17Klpge763f8rMu6YU/zrn2nml+2WtH+Z+5IAAFc\n",
       "2bUTdTDOSNa9+cQY7YLsOIXhevEkCvzph7a8laecz/Un/z4/Ae04XeL3UQb57IwU9ZDr9UuKVajv\n",
       "nxp1+1UVIo/LjztZkKH59fO3G/JemqCfmaCRqbqbd90ZZ8FfjtkfAyD0J/9+C2h1hDwsSxvGjNDc\n",
       "b4zk5NfrSwiQblLHzZhg+Jf4aPlUwpDqkQqa9nimbt1/TDH8OitGMaQnj+RJS6B1fbF7SY1TqO5v\n",
       "/v0WAADl1f7zokgS7s7VT2DZ7pegUjBM7mjtiDZbcN4j0YrHH0rXpCtY0qPX0cVL0rv5jv/ZXend\n",
       "0u/EESYBAFBU4T4Qa5TflZOhTe7pmKpaP8kCVUVw1+yhXfJWvn1P3hnXi33JsTN6PnP3hHZ8Z3/h\n",
       "aLHzmkNPuPj7Bc/F/Q38CwjTpSwQXgE4Vmwry9tpfq/ZFgqFMy4AVDtCvi8rvMvOmv0N4YwbVgEA\n",
       "sPM72/KVnzfspmH7HQGCRLG2yL1+z8XwvPcdCbsAANh+xPzstgMtxeGKt+6MK3/tacfvwhWvIwMi\n",
       "oKEBtm0H7W+UVfkc/Y1V0BhoPlDr/w1w/eu1vjIgAgDg22OtX6/eYfnEz/focrZTHAFR+PSs56/7\n",
       "q32nwpjazxgwAQCwcU/T62t3WL7r6/jVRa6/byp1rei+Z98ZUAEAhEPHPc8fKnTU9nbgtnOe8h0l\n",
       "9hcGIqmODLQAHCy2Xti6v/XNRivf43f4fFvIteu854+VHnR7q9tfBlwAAGz+pnndB9vM26UebAe8\n",
       "SLHujPOTPVW+rwY+sxskAAC2HrA8t2Vvc7ffP1r9o+vwR2dcr92InIAbKKC1FZ5tB1tf+/G8p8sv\n",
       "N/9Q5zd/XR34LYCwV5JdccMEAMDBk45DH243r/X4xGvqxFa/GNpS7n6rwOwNWwHVE26oAADYurf1\n",
       "zx/utOzt+DMKYM0p17YtZZ5VNzqfsB2HewG1WXE8PoZ7gOclbTIvynZf9JV+fqZtfgs/8F/Nu5rB\n",
       "EIBmJ+8QRMmpU7EzGRsf2FzuePqYRbzh/zE26EwdrT10f6r6o8HOYzCJB9Dpff8tbnGLG8L/A/WE\n",
       "roTBs2RqAAAAAElFTkSuQmCC'\n",
       "     style='height:25px; border-radius:12px; display: inline-block; float: left; vertical-align: middle'></img>\n",
       "\n",
       "\n",
       "\n",
       "\n",
       "  <img src='data:image/png;base64,iVBORw0KGgoAAAANSUhEUgAAACAAAAAgCAYAAABzenr0AAAABHNCSVQICAgIfAhkiAAAAAlwSFlz\n",
       "AAAFMAAABTABZarKtgAAABl0RVh0U29mdHdhcmUAd3d3Lmlua3NjYXBlLm9yZ5vuPBoAAArNSURB\n",
       "VFiFnVd5VFNXGv/ee0kgGyQhbFoXIKCFYEXEDVErTucMoKUOWA/VLsNSLPQgFTOdyrHPiIp1lFIQ\n",
       "OlaPShEG3EpPcQmISCuV1bQ1CLKIULeQhJA9JO+9+UMT0x5aPfOdc895373f/e7v/t537/ddBF5Q\n",
       "JBIJl81mJwCACEVRQBCEQhAEAQCgnghCURRCkmS7Wq2+WlJSYn0Rv8jzDHAcD0EQJIVGo5mFQuGF\n",
       "jIyMu39kq1KpkOrq6gU6nS6aIAiGzWY7VVBQ0P9/AcjNzWXy+fxcOp2uiY+Przm0d6+n8dblv/Fo\n",
       "kzM4SzYfPlRePvFnjnt6ehh1dXVv2mw2nlar/byoqMj8wgBwHBchCJIZEhJSeu1yHVi7vtu02t8+\n",
       "NykQ7BMWoOUMhXQsXLv5IQAwSJJEEASxcDicoeTk5DtCoZBy9XX69Gnv3t7ebJIky3EcH3guAKlU\n",
       "GoGiaOKWLVsOvhs7/9XXPMde3/IyIFbMnaPDuD5AUdQuOf2XlD0npTExMWYAgNbWVpZcLg8xGAzB\n",
       "JEnSvby82tPT052LaTQatLy8fBtJkt/s3Lnz5h8CwHFcRKPRNu/YsePAjh072KTs0IGCxRg8RgUB\n",
       "TGpSx6cmHgMAfNqN6Xa1GvJ/D35gYAAViURkcXHxUrPZHDRv3rxv4uLiDI7xPXv2bLdYLBUFBQWD\n",
       "jj7M8ZGbm8tkMpmSrKysQiaTScXGxtpqL7dManT6tcu5mgEWWJyOhicozpk+c3NsbKzNFcBbWWEf\n",
       "1Td9/upA30i3ZJv0h8bGxiSFQmFcuHDhOACAWCy+0d3dvX3lypUtzc3N9t8AiIuLk4SEhByLiooy\n",
       "AgAcO3ZsNlPgH3Cttb35JZo+bCYXIQAA9MDiUW7sWS1KN687w6Mera2twa2trfMvXboUOS28Pyb1\n",
       "U08McRtf/sXBSmt5cc35pqamVQqFwhoZGallMpnU/fv3e7RaberVq1d/AABAn1IfQqfTNRs3blQB\n",
       "AFy+fJk7Nja2XCKRnD3dNSorusPq6NfTPR+gPiEEoLRFXO1tS2+zavv27ReftjNttyr0S1/j0rUP\n",
       "PEJQwNwQYGgAACQSyXmNRhMtk8lYAAApKSlKDMP0+fn5QU4ACIKkxMfH1zjYuHnz5uspKSlOfdX7\n",
       "u68fvOePcCzKQR4YVCgATGfa/F3pnzaHWOAXSDyaMCqH2+r8VXErP3D+snXr1tV2dXW94dATExOr\n",
       "6XT6JgAAVCKRcDEMM4WHh9sAAHJyUqNu//wDymKx7AAAVVVVPiaTKXxByrYMvBsxEMSTwPXhuL+8\n",
       "e/fu9fv371+flvbemogYNz+TnsBOFEwMFO8/KzEYDKFVVVX+AAChoaGT7u7ud48ePRro0DEMs+bl\n",
       "5bFRNpud4O3tfdGBzq5uy/5wTUPM/q2zC9atmbVqeHg4Pi0t7WxGRoZFH5rw76I7LI8HqHfwPL7d\n",
       "rfVagzw1NfW81t4ePUfsP/OrnWZ6fPSuUqFQSEkkkrOjo6OvuQR5q0ajiXLoPj4+lzgcTjwKACLH\n",
       "9SqXy2kzhBO8haGo+UA2wZW+p880DxeveGt9aHx9fT09ctlq3sC0NT9e6xsbjuZblSxl7wKtVotM\n",
       "m6PnXvlmZJBtX91CEMQsxyJsNlteXl4udugIghAajQYFAEhPTx9AEGQOimGY8y4oLt63KlJkdB4t\n",
       "P282Z/c/dPrDH04ktJ9P2tfWXP3+2o1vHzunEp6Xq0lsGt08KzUrcSGTQ3n3XeefLCs5UqnT6Rap\n",
       "VCoEACA7O/snvV4f5gJooLa2NsihoygKKEVRzquTND2OCpttGXdG1tOxwOlgzdvE9v30rV+m3W5I\n",
       "2jfJNQmLH85QUUzPNTwvkAx0+vVGhq2/VV9fT+dyuZ01NTXOXQOA3fGxevXq2waDYY5r8KIoij5b\n",
       "jzB5Cz2oKdOo0erOm+1tVuVtBMZXElNMRJR1fvvjx9iPLQ/RjpuB0Xu/Vp7YmH1864YNG3oNBkPw\n",
       "VD7mzp1rJUnSzZUBmqsBggAgGFC/n6jVA+3WoN3tu1Gg39cg2tEx1Cg3CIJHsclxnl2HRorMN8Z0\n",
       "fRW+vr7GJ36Q56Z5h9BIknzGAMJWtvdQYs0EZe3/FSwqk5tpXEMb1JoYD+n8xRdQJl/fMPEgzKhS\n",
       "L40KCD7lGzg92qIyovpb3y/msT2un2psvFpWVvYyl8vtc1nDSXFXV5c7iqLOtEyS5LNBAADfWeKm\n",
       "Ly4uuvR1++sfv51/P5sfnHm2/Iy+mBmwsaHJbpt+Q0jHSS7TZ/PSNVkNJ/973OxtemD1s91CPb12\n",
       "h9MfvZsk5meo1eqo5ORkxTNWn7HR1tY2l8PhOAsUiqIolCRJcETtv/61qzNySYK5trZ2TCgUUiwW\n",
       "S1FSUhLR+bA/kAzwXcAbHa/cFhrTXrJ/v+7IkSPu3Je4Xm5eboJv2wba5QbO5fQwxhsP679Y+nFO\n",
       "jgAAoKSkJILFYjnBGI1G0YYNGwYBnqRoiqIQlKKojurq6gUAAAKBgKQoiuGYkJWVpTCZTOKmI1Xd\n",
       "HwnDcm+cOnOMw+H0FxYWbqpvqv/r9EV+bky+O+/QoUPiqJRt9JphTLFHbKBCR87tWL9EPN9oNIZn\n",
       "ZWUpXHaMCQQCEgCgsrIyEgBuoGq1+qpOp4t2GPH5/BvFxcVLHXpgYGDD8ePH/56Xl2cCAMjMzOxP\n",
       "S0s7pWfow4RCbz/fAF9RT0+P9yeffHJySSqev+9nxLD1FaAlTR8vlJ8vxxzsFhUVLRMIBB0OvwaD\n",
       "YRlFUdfQkpISK0EQ9J6eHgYAQEZGxl2z2Rw0MjJCBwBITk5+xOVyfzpw4ECSw5lQKKQIbxtJm4EN\n",
       "8eZ7jPz0oNv+dK5FG/jq54eH+IFr/S1KabBy0UerAvI+++wzD4vFEpCWljYEACCTyVh2ux3FcXwS\n",
       "BQCw2WxVdXV1bzrQRURE1FVVVTn1zMzM/pkzZ35/9OjRd0pLS19RqVQIy4/tCwDgOcPTQvFQEQBA\n",
       "aWnpK0ERK2LbyVllN341GUJ4YDu8zD5bKyur7O+85tx9Z2fnO1ar9QjA04KkpaVFs2LFir8olcq7\n",
       "YWFhJpFINNnX16drbGyMjY6Ovg0AIBaLjcuXL5d3d3d7XbhwIW704b3F479MeD1qVfJ5Og/bvb4R\n",
       "LwaDMZabm9uwflNa/z/3HOIv5NsDEK7XS7FeevXPvYNLvm5S/GglCK5KpZorlUobXE8g5ObmMqVS\n",
       "6UG1Wu1BURSHoijOiRMnwgoLC7coFAqBo+9Fm0KhEKStmvvto3TeucFN7pVJYbytarXaQyqVHsRx\n",
       "3N15TF1BuBaljr4rV66wOzo63mAymXdzcnKuwwtIUVHRMqvVGkgQxMV7NXvyJijGvcNXB/7z5Zdf\n",
       "bicI4gSO40NTAgD4bVnuODIAT2pElUq1FEEQO4fD6QsPD++fqixHEATj8/ntjoCrqKhwS0hIsJWV\n",
       "leURBHEOx3G563pT3tn5+flBDAbjg6CgoMMpKSlK17GhoSFMJpMFPk04DJIkEQzDzCwW6+5UD5Oa\n",
       "mhrfO3fufECS5GHXnf8pAAAAHMfdURTdimGYPjExsTo0NHTyj2ynEplMxurs7HyHIAiKJMlSHMct\n",
       "U9k9N2vl5+cH0en0TRiGWX18fC65vnh+LxqNBq2oqFhgMpmi7XY7arVaj+zdu/fxn/l/4bSZl5fH\n",
       "5nK5CQAQMtXznCRJePpEbwOAZhzHX4ix/wHzzC/tu64gcwAAAABJRU5ErkJggg=='\n",
       "       style='height:15px; border-radius:12px; display: inline-block; float: left'></img>\n",
       "  \n",
       "\n",
       "\n",
       "</div>\n"
      ]
     },
     "metadata": {},
     "output_type": "display_data"
    }
   ],
   "source": [
    "import numpy as np\n",
    "import xarray as xr\n",
    "\n",
    "from gemmr.data import *\n",
    "\n",
    "import matplotlib\n",
    "import holoviews as hv\n",
    "from holoviews import opts\n",
    "hv.extension('matplotlib')\n",
    "hv.renderer('matplotlib').param.set_param(dpi=120)\n",
    "\n",
    "from my_config import *\n",
    "\n",
    "import warnings\n",
    "from matplotlib import MatplotlibDeprecationWarning\n",
    "warnings.simplefilter('ignore', MatplotlibDeprecationWarning)\n",
    "warnings.filterwarnings(\n",
    "    'ignore', 'aspect is not supported for Axes with xscale=log, yscale=linear', category=UserWarning\n",
    ")  # holoviews emits this for log-linear plots"
   ]
  },
  {
   "cell_type": "markdown",
   "metadata": {},
   "source": [
    "## Data generation"
   ]
  },
  {
   "cell_type": "markdown",
   "metadata": {},
   "source": [
    "First let's load the data"
   ]
  },
  {
   "cell_type": "code",
   "execution_count": 2,
   "metadata": {},
   "outputs": [
    {
     "name": "stdout",
     "output_type": "stream",
     "text": [
      "Loading data from subfolder 'gemmr_latest'\n",
      "Loading data from subfolder 'gemmr_latest'\n"
     ]
    }
   ],
   "source": [
    "data_home = None\n",
    "compatible_true_vs_observed_assocs_cca = load_outcomes('compatTrueVsObsAssoc_cca_cca_random_sum+-2+-2', data_home=data_home).sel(mode=0)\n",
    "compatible_true_vs_observed_assocs_pls = load_outcomes('compatTrueVsObsAssoc_pls_pls_random_sum+-2+-2', data_home=data_home).sel(mode=0)"
   ]
  },
  {
   "cell_type": "code",
   "execution_count": 3,
   "metadata": {},
   "outputs": [],
   "source": [
    "compatible_true_vs_observed_assocs_cca = compatible_true_vs_observed_assocs_cca.sel(px=compatible_true_vs_observed_assocs_cca.px > 2)\n",
    "compatible_true_vs_observed_assocs_pls = compatible_true_vs_observed_assocs_pls.sel(px=compatible_true_vs_observed_assocs_pls.px > 2)"
   ]
  },
  {
   "cell_type": "code",
   "execution_count": 4,
   "metadata": {},
   "outputs": [],
   "source": [
    "compatible_true_vs_observed_assocs_cca = compatible_true_vs_observed_assocs_cca.sel(px=compatible_true_vs_observed_assocs_cca.px < 128)\n",
    "compatible_true_vs_observed_assocs_pls = compatible_true_vs_observed_assocs_pls.sel(px=compatible_true_vs_observed_assocs_pls.px < 128)"
   ]
  },
  {
   "cell_type": "markdown",
   "metadata": {},
   "source": [
    "What's in these data files?"
   ]
  },
  {
   "cell_type": "code",
   "execution_count": 5,
   "metadata": {},
   "outputs": [
    {
     "name": "stdout",
     "output_type": "stream",
     "text": [
      "n_rep\t\t 100\n",
      "n_per_ftr\t [ 5 50]\n",
      "r\t\t [0.   0.01 0.02 0.03 0.04 0.05 0.06 0.07 0.08 0.09 0.1  0.11 0.12 0.13\n",
      " 0.14 0.15 0.16 0.17 0.18 0.19 0.2  0.21 0.22 0.23 0.24 0.25 0.26 0.27\n",
      " 0.28 0.29 0.3  0.31 0.32 0.33 0.34 0.35 0.36 0.37 0.38 0.39 0.4  0.41\n",
      " 0.42 0.43 0.44 0.45 0.46 0.47 0.48 0.49 0.5  0.51 0.52 0.53 0.54 0.55\n",
      " 0.56 0.57 0.58 0.59 0.6  0.61 0.62 0.63 0.64 0.65 0.66 0.67 0.68 0.69\n",
      " 0.7  0.71 0.72 0.73 0.74 0.75 0.76 0.77 0.78 0.79 0.8  0.81 0.82 0.83\n",
      " 0.84 0.85 0.86 0.87 0.88 0.89 0.9  0.91 0.92 0.93 0.94 0.95 0.96 0.97\n",
      " 0.98 0.99]\n",
      "px\t\t [ 4  8 16 32 64]\n",
      "ax+ay range\t(-2.00, -2.00)\n",
      "py\t\t== px\n",
      "\n",
      "<xarray.DataArray 'n_Sigmas' (px: 5, r: 100)>\n",
      "array([[10, 10, 10, 10, 10, 10, 10, 10, 10, 10, 10, 10, 10, 10, 10, 10,\n",
      "        10, 10, 10, 10, 10, 10, 10, 10, 10, 10, 10, 10, 10, 10, 10, 10,\n",
      "        10, 10, 10, 10, 10, 10, 10, 10, 10, 10, 10, 10, 10, 10, 10, 10,\n",
      "        10, 10, 10, 10, 10, 10, 10, 10, 10, 10, 10, 10, 10, 10, 10, 10,\n",
      "        10, 10, 10, 10, 10, 10, 10, 10, 10, 10, 10, 10, 10, 10, 10, 10,\n",
      "        10, 10, 10, 10, 10, 10, 10, 10, 10, 10, 10, 10, 10, 10, 10, 10,\n",
      "        10, 10, 10, 10],\n",
      "       [10, 10, 10, 10, 10, 10, 10, 10, 10, 10, 10, 10, 10, 10, 10, 10,\n",
      "        10, 10, 10, 10, 10, 10, 10, 10, 10, 10, 10, 10, 10, 10, 10, 10,\n",
      "        10, 10, 10, 10, 10, 10, 10, 10, 10, 10, 10, 10, 10, 10, 10, 10,\n",
      "        10, 10, 10, 10, 10, 10, 10, 10, 10, 10, 10, 10, 10, 10, 10, 10,\n",
      "        10, 10, 10, 10, 10, 10, 10, 10, 10, 10, 10, 10, 10, 10, 10, 10,\n",
      "        10, 10, 10, 10, 10, 10, 10, 10, 10, 10, 10, 10, 10, 10, 10, 10,\n",
      "        10, 10, 10, 10],\n",
      "       [10, 10, 10, 10, 10, 10, 10, 10, 10, 10, 10, 10, 10, 10, 10, 10,\n",
      "        10, 10, 10, 10, 10, 10, 10, 10, 10, 10, 10, 10, 10, 10, 10, 10,\n",
      "        10, 10, 10, 10, 10, 10, 10, 10, 10, 10, 10, 10, 10, 10, 10, 10,\n",
      "        10, 10, 10, 10, 10, 10, 10, 10, 10, 10, 10, 10, 10, 10, 10, 10,\n",
      "        10, 10, 10, 10, 10, 10, 10, 10, 10, 10, 10, 10, 10, 10, 10, 10,\n",
      "        10, 10, 10, 10, 10, 10, 10, 10, 10, 10, 10, 10, 10, 10, 10, 10,\n",
      "        10, 10, 10, 10],\n",
      "       [10, 10, 10, 10, 10, 10, 10, 10, 10, 10, 10, 10, 10, 10, 10, 10,\n",
      "        10, 10, 10, 10, 10, 10, 10, 10, 10, 10, 10, 10, 10, 10, 10, 10,\n",
      "        10, 10, 10, 10, 10, 10, 10, 10, 10, 10, 10, 10, 10, 10, 10, 10,\n",
      "        10, 10, 10, 10, 10, 10, 10, 10, 10, 10, 10, 10, 10, 10, 10, 10,\n",
      "        10, 10, 10, 10, 10, 10, 10, 10, 10, 10, 10, 10, 10, 10, 10, 10,\n",
      "        10, 10, 10, 10, 10, 10, 10, 10, 10, 10, 10, 10, 10, 10, 10, 10,\n",
      "        10, 10, 10, 10],\n",
      "       [10, 10, 10, 10, 10, 10, 10, 10, 10, 10, 10, 10, 10, 10, 10, 10,\n",
      "        10, 10, 10, 10, 10, 10, 10, 10, 10, 10, 10, 10, 10, 10, 10, 10,\n",
      "        10, 10, 10, 10, 10, 10, 10, 10, 10, 10, 10, 10, 10, 10, 10, 10,\n",
      "        10, 10, 10, 10, 10, 10, 10, 10, 10, 10, 10, 10, 10, 10, 10, 10,\n",
      "        10, 10, 10, 10, 10, 10, 10, 10, 10, 10, 10, 10, 10, 10, 10, 10,\n",
      "        10, 10, 10, 10, 10, 10, 10, 10, 10, 10, 10, 10, 10, 10, 10, 10,\n",
      "        10, 10, 10, 10]])\n",
      "Coordinates:\n",
      "  * r        (r) float64 0.0 0.01 0.02 0.03 0.04 ... 0.95 0.96 0.97 0.98 0.99\n",
      "  * px       (px) int64 4 8 16 32 64\n",
      "\n",
      "power\t\tnot calculated\n"
     ]
    }
   ],
   "source": [
    "print_ds_stats(compatible_true_vs_observed_assocs_cca)"
   ]
  },
  {
   "cell_type": "code",
   "execution_count": 6,
   "metadata": {},
   "outputs": [
    {
     "name": "stdout",
     "output_type": "stream",
     "text": [
      "n_rep\t\t 100\n",
      "n_per_ftr\t [ 5 50]\n",
      "r\t\t [0.   0.01 0.02 0.03 0.04 0.05 0.06 0.07 0.08 0.09 0.1  0.11 0.12 0.13\n",
      " 0.14 0.15 0.16 0.17 0.18 0.19 0.2  0.21 0.22 0.23 0.24 0.25 0.26 0.27\n",
      " 0.28 0.29 0.3  0.31 0.32 0.33 0.34 0.35 0.36 0.37 0.38 0.39 0.4  0.41\n",
      " 0.42 0.43 0.44 0.45 0.46 0.47 0.48 0.49 0.5  0.51 0.52 0.53 0.54 0.55\n",
      " 0.56 0.57 0.58 0.59 0.6  0.61 0.62 0.63 0.64 0.65 0.66 0.67 0.68 0.69\n",
      " 0.7  0.71 0.72 0.73 0.74 0.75 0.76 0.77 0.78 0.79 0.8  0.81 0.82 0.83\n",
      " 0.84 0.85 0.86 0.87 0.88 0.89 0.9  0.91 0.92 0.93 0.94 0.95 0.96 0.97\n",
      " 0.98 0.99]\n",
      "px\t\t [ 4  8 16 32 64]\n",
      "ax+ay range\t(-2.00, -2.00)\n",
      "py\t\t== px\n",
      "\n",
      "<xarray.DataArray 'n_Sigmas' (px: 5, r: 100)>\n",
      "array([[10, 10, 10, 10, 10, 10, 10, 10, 10, 10, 10, 10, 10, 10, 10, 10,\n",
      "        10, 10, 10, 10, 10, 10, 10, 10, 10, 10, 10, 10, 10, 10, 10, 10,\n",
      "        10, 10, 10, 10, 10, 10, 10, 10, 10, 10, 10, 10, 10, 10, 10, 10,\n",
      "        10, 10, 10, 10, 10, 10, 10, 10, 10, 10, 10, 10, 10, 10, 10, 10,\n",
      "        10, 10, 10, 10, 10, 10, 10, 10, 10, 10, 10, 10, 10, 10, 10, 10,\n",
      "        10, 10, 10, 10, 10, 10, 10, 10, 10, 10, 10, 10, 10, 10, 10, 10,\n",
      "        10, 10, 10, 10],\n",
      "       [10, 10, 10, 10, 10, 10, 10, 10, 10, 10, 10, 10, 10, 10, 10, 10,\n",
      "        10, 10, 10, 10, 10, 10, 10, 10, 10, 10, 10, 10, 10, 10, 10, 10,\n",
      "        10, 10, 10, 10, 10, 10, 10, 10, 10, 10, 10, 10, 10, 10, 10, 10,\n",
      "        10, 10, 10, 10, 10, 10, 10, 10, 10, 10, 10, 10, 10, 10, 10, 10,\n",
      "        10, 10, 10, 10, 10, 10, 10, 10, 10, 10, 10, 10, 10, 10, 10, 10,\n",
      "        10, 10, 10, 10, 10, 10, 10, 10, 10, 10, 10, 10, 10, 10, 10, 10,\n",
      "        10, 10,  7,  1],\n",
      "       [10, 10, 10, 10, 10, 10, 10, 10, 10, 10, 10, 10, 10, 10, 10, 10,\n",
      "        10, 10, 10, 10, 10, 10, 10, 10, 10, 10, 10, 10, 10, 10, 10, 10,\n",
      "        10, 10, 10, 10, 10, 10, 10, 10, 10, 10, 10, 10, 10, 10, 10, 10,\n",
      "        10, 10, 10, 10, 10, 10, 10, 10, 10, 10, 10, 10, 10, 10, 10, 10,\n",
      "        10, 10, 10, 10, 10, 10, 10, 10, 10, 10, 10, 10, 10, 10, 10, 10,\n",
      "        10, 10, 10, 10,  9,  9,  9,  9,  8,  8,  7,  5,  3,  1,  0,  0,\n",
      "         0,  0,  0,  0],\n",
      "       [10, 10, 10, 10, 10, 10, 10, 10, 10, 10, 10, 10, 10, 10, 10, 10,\n",
      "        10, 10, 10, 10, 10, 10, 10, 10, 10, 10, 10, 10, 10, 10, 10, 10,\n",
      "        10, 10, 10, 10, 10, 10, 10, 10, 10, 10, 10, 10, 10, 10, 10, 10,\n",
      "        10, 10, 10, 10, 10, 10, 10, 10, 10, 10, 10,  9,  8,  8,  8,  8,\n",
      "         8,  8,  8,  8,  8,  8,  8,  8,  7,  7,  7,  7,  6,  6,  4,  4,\n",
      "         3,  3,  2,  2,  1,  1,  0,  0,  0,  0,  0,  0,  0,  0,  0,  0,\n",
      "         0,  0,  0,  0],\n",
      "       [10, 10, 10, 10, 10, 10, 10, 10, 10, 10, 10, 10, 10, 10, 10, 10,\n",
      "        10, 10, 10, 10, 10, 10, 10, 10, 10, 10, 10, 10, 10, 10, 10, 10,\n",
      "        10, 10, 10, 10, 10, 10,  8,  8,  8,  8,  8,  8,  8,  8,  8,  8,\n",
      "         8,  8,  8,  8,  7,  7,  7,  7,  7,  7,  6,  6,  6,  6,  6,  4,\n",
      "         3,  3,  3,  3,  3,  3,  2,  2,  2,  2,  2,  1,  0,  0,  0,  0,\n",
      "         0,  0,  0,  0,  0,  0,  0,  0,  0,  0,  0,  0,  0,  0,  0,  0,\n",
      "         0,  0,  0,  0]])\n",
      "Coordinates:\n",
      "  * r        (r) float64 0.0 0.01 0.02 0.03 0.04 ... 0.95 0.96 0.97 0.98 0.99\n",
      "  * px       (px) int64 4 8 16 32 64\n",
      "\n",
      "power\t\tnot calculated\n"
     ]
    }
   ],
   "source": [
    "print_ds_stats(compatible_true_vs_observed_assocs_pls)"
   ]
  },
  {
   "cell_type": "markdown",
   "metadata": {},
   "source": [
    "## Figure"
   ]
  },
  {
   "cell_type": "code",
   "execution_count": 7,
   "metadata": {},
   "outputs": [],
   "source": [
    "def plot_compatible_true_vs_observed_assocs(\n",
    "    compatible_true_vs_observed_assocs, qs=(.025, .975), plot_identity_line=True\n",
    "):\n",
    "    \n",
    "    _ds = xr.Dataset(dict(\n",
    "        between_assocs=compatible_true_vs_observed_assocs.between_assocs,\n",
    "        between_assocs_true=compatible_true_vs_observed_assocs.between_assocs_true,\n",
    "    )).stack(it=('Sigma_id', 'px', 'rep', 'r'))\n",
    "    \n",
    "    panel = hv.Overlay()\n",
    "    for n_per_ftr in _ds.n_per_ftr.values:\n",
    "\n",
    "        __ds = _ds.sel(n_per_ftr=n_per_ftr)\n",
    "        rounded = np.round(__ds.between_assocs, decimals=2)\n",
    "        g_q = __ds.between_assocs_true.groupby(rounded).quantile(qs)\n",
    "        \n",
    "        panel *= hv.Area(\n",
    "            (g_q.between_assocs, g_q.sel(quantile=qs[0]), g_q.sel(quantile=qs[-1])),\n",
    "            vdims=['y', 'y2'],\n",
    "            label='Samples / ftr = %i' % n_per_ftr\n",
    "        )\n",
    "        \n",
    "    if plot_identity_line:\n",
    "        panel *= hv.Curve(([0, 1], [0, 1])).opts(color='black', linestyle='--', linewidth=1)\n",
    "        \n",
    "    return panel.redim(\n",
    "        x='Observed assoc. strength',\n",
    "        y='Compatible true assoc. strength',\n",
    "    )"
   ]
  },
  {
   "cell_type": "code",
   "execution_count": 8,
   "metadata": {},
   "outputs": [
    {
     "data": {
      "text/html": [
       "<img src='data:image/png;base64,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' style='max-width:100%; margin: auto; display: block; '/>"
      ],
      "text/plain": [
       ":Layout\n",
       "   .Overlay.I  :Overlay\n",
       "      .Area.Samples_over_ftr_equals_5  :Area   [Observed assoc. strength]   (Compatible true assoc. strength,y2)\n",
       "      .Area.Samples_over_ftr_equals_50 :Area   [Observed assoc. strength]   (Compatible true assoc. strength,y2)\n",
       "      .Curve.I                         :Curve   [Observed assoc. strength]   (Compatible true assoc. strength)\n",
       "      .Text.I                          :Text   [x,y]\n",
       "      .Text.II                         :Text   [x,y]\n",
       "   .Overlay.II :Overlay\n",
       "      .Area.Samples_over_ftr_equals_5  :Area   [Observed assoc. strength]   (Compatible true assoc. strength,y2)\n",
       "      .Area.Samples_over_ftr_equals_50 :Area   [Observed assoc. strength]   (Compatible true assoc. strength,y2)\n",
       "      .Curve.I                         :Curve   [Observed assoc. strength]   (Compatible true assoc. strength)"
      ]
     },
     "execution_count": 8,
     "metadata": {
      "application/vnd.holoviews_exec.v0+json": {}
     },
     "output_type": "execute_result"
    }
   ],
   "source": [
    "fig = (\n",
    "    (\n",
    "        plot_compatible_true_vs_observed_assocs(compatible_true_vs_observed_assocs_cca)\n",
    "        * hv.Text(.025, 1, '5 samples / ftr', fontsize=7, halign='left', valign='top')\n",
    "        * hv.Text(.025, .9, '50 samples / ftr', fontsize=7, halign='left', valign='top')\n",
    "    ).opts(\n",
    "        opts.Text(color=hv.Palette('cool')),\n",
    "        opts.Overlay(xlim=(0, 1), ylim=(0, 1), show_legend=False, hooks=[suptitle_cca])\n",
    "    )\n",
    "    + plot_compatible_true_vs_observed_assocs(compatible_true_vs_observed_assocs_pls).opts(\n",
    "        opts.Area(show_legend=True),\n",
    "        opts.Overlay(xlim=(0, None), ylim=(0, None), ylabel='', show_legend=False, hooks=[suptitle_pls]), \n",
    "    )\n",
    ")    \n",
    "    \n",
    "def hook_legend(plot, elements):\n",
    "    try:\n",
    "        legend = plot.handles['legend']\n",
    "    except KeyError:\n",
    "        pass\n",
    "    else:\n",
    "        legend.set_frame_on(False)\n",
    "        legend.set_bbox_to_anchor((0, 1.35))\n",
    "    \n",
    "    \n",
    "fig = fig.cols(\n",
    "    2\n",
    ").opts(\n",
    "    *fig_opts\n",
    ").opts(\n",
    "    opts.Area(linewidth=0, alpha=.5, color=hv.Palette('cool')),\n",
    "    opts.Overlay(fig_inches=(1.7, None), sublabel_position=(-.25, 1))\n",
    ")\n",
    "\n",
    "hv.save(fig, 'fig/figS_compatible_true_vs_observed_assocs.pdf')\n",
    "\n",
    "fig"
   ]
  }
 ],
 "metadata": {
  "interpreter": {
   "hash": "353a147e3613e6b917b871b1c7403ff166c02a1998fca17dbe62e70053517a56"
  },
  "kernelspec": {
   "display_name": "Python 3.7.7 64-bit ('gemmr': conda)",
   "name": "python3"
  },
  "language_info": {
   "codemirror_mode": {
    "name": "ipython",
    "version": 3
   },
   "file_extension": ".py",
   "mimetype": "text/x-python",
   "name": "python",
   "nbconvert_exporter": "python",
   "pygments_lexer": "ipython3",
   "version": "3.8.18"
  }
 },
 "nbformat": 4,
 "nbformat_minor": 4
}
