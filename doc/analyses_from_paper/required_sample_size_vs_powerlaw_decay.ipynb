{
 "cells": [
  {
   "cell_type": "markdown",
   "metadata": {},
   "source": [
    "# Sample size dependence on powerlaw-decay constants\\"
   ]
  },
  {
   "cell_type": "markdown",
   "metadata": {},
   "source": [
    "PLS outcomes depend on the within-set varianace spectrum. We have modeled the within-set variance spectrum as powerlaws, characterized by decay constants $a_X$ and $a_Y$ for datasets $X$ and $Y$, respectively. For simplicity, we have usually assumed a fixed value for the sum of the two decay constants: $a_X+a_Y=-2$. Here, we show how required sample sizes depend on $a_X + a_Y$."
   ]
  },
  {
   "cell_type": "markdown",
   "metadata": {},
   "source": [
    "## Setup"
   ]
  },
  {
   "cell_type": "code",
   "execution_count": 1,
   "metadata": {},
   "outputs": [
    {
     "data": {
      "application/javascript": "(function(root) {\n  function now() {\n    return new Date();\n  }\n\n  var force = true;\n  var py_version = '3.1.1'.replace('rc', '-rc.').replace('.dev', '-dev.');\n  var is_dev = py_version.indexOf(\"+\") !== -1 || py_version.indexOf(\"-\") !== -1;\n  var reloading = false;\n  var Bokeh = root.Bokeh;\n  var bokeh_loaded = Bokeh != null && (Bokeh.version === py_version || (Bokeh.versions !== undefined && Bokeh.versions.has(py_version)));\n\n  if (typeof (root._bokeh_timeout) === \"undefined\" || force) {\n    root._bokeh_timeout = Date.now() + 5000;\n    root._bokeh_failed_load = false;\n  }\n\n  function run_callbacks() {\n    try {\n      root._bokeh_onload_callbacks.forEach(function(callback) {\n        if (callback != null)\n          callback();\n      });\n    } finally {\n      delete root._bokeh_onload_callbacks;\n    }\n    console.debug(\"Bokeh: all callbacks have finished\");\n  }\n\n  function load_libs(css_urls, js_urls, js_modules, js_exports, callback) {\n    if (css_urls == null) css_urls = [];\n    if (js_urls == null) js_urls = [];\n    if (js_modules == null) js_modules = [];\n    if (js_exports == null) js_exports = {};\n\n    root._bokeh_onload_callbacks.push(callback);\n\n    if (root._bokeh_is_loading > 0) {\n      console.debug(\"Bokeh: BokehJS is being loaded, scheduling callback at\", now());\n      return null;\n    }\n    if (js_urls.length === 0 && js_modules.length === 0 && Object.keys(js_exports).length === 0) {\n      run_callbacks();\n      return null;\n    }\n    if (!reloading) {\n      console.debug(\"Bokeh: BokehJS not loaded, scheduling load and callback at\", now());\n    }\n\n    function on_load() {\n      root._bokeh_is_loading--;\n      if (root._bokeh_is_loading === 0) {\n        console.debug(\"Bokeh: all BokehJS libraries/stylesheets loaded\");\n        run_callbacks()\n      }\n    }\n    window._bokeh_on_load = on_load\n\n    function on_error() {\n      console.error(\"failed to load \" + url);\n    }\n\n    var skip = [];\n    if (window.requirejs) {\n      window.requirejs.config({'packages': {}, 'paths': {'jspanel': 'https://cdn.jsdelivr.net/npm/jspanel4@4.12.0/dist/jspanel', 'jspanel-modal': 'https://cdn.jsdelivr.net/npm/jspanel4@4.12.0/dist/extensions/modal/jspanel.modal', 'jspanel-tooltip': 'https://cdn.jsdelivr.net/npm/jspanel4@4.12.0/dist/extensions/tooltip/jspanel.tooltip', 'jspanel-hint': 'https://cdn.jsdelivr.net/npm/jspanel4@4.12.0/dist/extensions/hint/jspanel.hint', 'jspanel-layout': 'https://cdn.jsdelivr.net/npm/jspanel4@4.12.0/dist/extensions/layout/jspanel.layout', 'jspanel-contextmenu': 'https://cdn.jsdelivr.net/npm/jspanel4@4.12.0/dist/extensions/contextmenu/jspanel.contextmenu', 'jspanel-dock': 'https://cdn.jsdelivr.net/npm/jspanel4@4.12.0/dist/extensions/dock/jspanel.dock', 'gridstack': 'https://cdn.jsdelivr.net/npm/gridstack@7.2.3/dist/gridstack-all', 'notyf': 'https://cdn.jsdelivr.net/npm/notyf@3/notyf.min'}, 'shim': {'jspanel': {'exports': 'jsPanel'}, 'gridstack': {'exports': 'GridStack'}}});\n      require([\"jspanel\"], function(jsPanel) {\n\twindow.jsPanel = jsPanel\n\ton_load()\n      })\n      require([\"jspanel-modal\"], function() {\n\ton_load()\n      })\n      require([\"jspanel-tooltip\"], function() {\n\ton_load()\n      })\n      require([\"jspanel-hint\"], function() {\n\ton_load()\n      })\n      require([\"jspanel-layout\"], function() {\n\ton_load()\n      })\n      require([\"jspanel-contextmenu\"], function() {\n\ton_load()\n      })\n      require([\"jspanel-dock\"], function() {\n\ton_load()\n      })\n      require([\"gridstack\"], function(GridStack) {\n\twindow.GridStack = GridStack\n\ton_load()\n      })\n      require([\"notyf\"], function() {\n\ton_load()\n      })\n      root._bokeh_is_loading = css_urls.length + 9;\n    } else {\n      root._bokeh_is_loading = css_urls.length + js_urls.length + js_modules.length + Object.keys(js_exports).length;\n    }\n\n    var existing_stylesheets = []\n    var links = document.getElementsByTagName('link')\n    for (var i = 0; i < links.length; i++) {\n      var link = links[i]\n      if (link.href != null) {\n\texisting_stylesheets.push(link.href)\n      }\n    }\n    for (var i = 0; i < css_urls.length; i++) {\n      var url = css_urls[i];\n      if (existing_stylesheets.indexOf(url) !== -1) {\n\ton_load()\n\tcontinue;\n      }\n      const element = document.createElement(\"link\");\n      element.onload = on_load;\n      element.onerror = on_error;\n      element.rel = \"stylesheet\";\n      element.type = \"text/css\";\n      element.href = url;\n      console.debug(\"Bokeh: injecting link tag for BokehJS stylesheet: \", url);\n      document.body.appendChild(element);\n    }    if (((window['jsPanel'] !== undefined) && (!(window['jsPanel'] instanceof HTMLElement))) || window.requirejs) {\n      var urls = ['https://cdn.holoviz.org/panel/1.2.3/dist/bundled/floatpanel/jspanel4@4.12.0/dist/jspanel.js', 'https://cdn.holoviz.org/panel/1.2.3/dist/bundled/floatpanel/jspanel4@4.12.0/dist/extensions/modal/jspanel.modal.js', 'https://cdn.holoviz.org/panel/1.2.3/dist/bundled/floatpanel/jspanel4@4.12.0/dist/extensions/tooltip/jspanel.tooltip.js', 'https://cdn.holoviz.org/panel/1.2.3/dist/bundled/floatpanel/jspanel4@4.12.0/dist/extensions/hint/jspanel.hint.js', 'https://cdn.holoviz.org/panel/1.2.3/dist/bundled/floatpanel/jspanel4@4.12.0/dist/extensions/layout/jspanel.layout.js', 'https://cdn.holoviz.org/panel/1.2.3/dist/bundled/floatpanel/jspanel4@4.12.0/dist/extensions/contextmenu/jspanel.contextmenu.js', 'https://cdn.holoviz.org/panel/1.2.3/dist/bundled/floatpanel/jspanel4@4.12.0/dist/extensions/dock/jspanel.dock.js'];\n      for (var i = 0; i < urls.length; i++) {\n        skip.push(urls[i])\n      }\n    }    if (((window['GridStack'] !== undefined) && (!(window['GridStack'] instanceof HTMLElement))) || window.requirejs) {\n      var urls = ['https://cdn.holoviz.org/panel/1.2.3/dist/bundled/gridstack/gridstack@7.2.3/dist/gridstack-all.js'];\n      for (var i = 0; i < urls.length; i++) {\n        skip.push(urls[i])\n      }\n    }    if (((window['Notyf'] !== undefined) && (!(window['Notyf'] instanceof HTMLElement))) || window.requirejs) {\n      var urls = ['https://cdn.holoviz.org/panel/1.2.3/dist/bundled/notificationarea/notyf@3/notyf.min.js'];\n      for (var i = 0; i < urls.length; i++) {\n        skip.push(urls[i])\n      }\n    }    var existing_scripts = []\n    var scripts = document.getElementsByTagName('script')\n    for (var i = 0; i < scripts.length; i++) {\n      var script = scripts[i]\n      if (script.src != null) {\n\texisting_scripts.push(script.src)\n      }\n    }\n    for (var i = 0; i < js_urls.length; i++) {\n      var url = js_urls[i];\n      if (skip.indexOf(url) !== -1 || existing_scripts.indexOf(url) !== -1) {\n\tif (!window.requirejs) {\n\t  on_load();\n\t}\n\tcontinue;\n      }\n      var element = document.createElement('script');\n      element.onload = on_load;\n      element.onerror = on_error;\n      element.async = false;\n      element.src = url;\n      console.debug(\"Bokeh: injecting script tag for BokehJS library: \", url);\n      document.head.appendChild(element);\n    }\n    for (var i = 0; i < js_modules.length; i++) {\n      var url = js_modules[i];\n      if (skip.indexOf(url) !== -1 || existing_scripts.indexOf(url) !== -1) {\n\tif (!window.requirejs) {\n\t  on_load();\n\t}\n\tcontinue;\n      }\n      var element = document.createElement('script');\n      element.onload = on_load;\n      element.onerror = on_error;\n      element.async = false;\n      element.src = url;\n      element.type = \"module\";\n      console.debug(\"Bokeh: injecting script tag for BokehJS library: \", url);\n      document.head.appendChild(element);\n    }\n    for (const name in js_exports) {\n      var url = js_exports[name];\n      if (skip.indexOf(url) >= 0 || root[name] != null) {\n\tif (!window.requirejs) {\n\t  on_load();\n\t}\n\tcontinue;\n      }\n      var element = document.createElement('script');\n      element.onerror = on_error;\n      element.async = false;\n      element.type = \"module\";\n      console.debug(\"Bokeh: injecting script tag for BokehJS library: \", url);\n      element.textContent = `\n      import ${name} from \"${url}\"\n      window.${name} = ${name}\n      window._bokeh_on_load()\n      `\n      document.head.appendChild(element);\n    }\n    if (!js_urls.length && !js_modules.length) {\n      on_load()\n    }\n  };\n\n  function inject_raw_css(css) {\n    const element = document.createElement(\"style\");\n    element.appendChild(document.createTextNode(css));\n    document.body.appendChild(element);\n  }\n\n  var js_urls = [\"https://cdn.bokeh.org/bokeh/release/bokeh-3.1.1.min.js\", \"https://cdn.bokeh.org/bokeh/release/bokeh-gl-3.1.1.min.js\", \"https://cdn.bokeh.org/bokeh/release/bokeh-widgets-3.1.1.min.js\", \"https://cdn.bokeh.org/bokeh/release/bokeh-tables-3.1.1.min.js\", \"https://cdn.holoviz.org/panel/1.2.3/dist/panel.min.js\"];\n  var js_modules = [];\n  var js_exports = {};\n  var css_urls = [];\n  var inline_js = [    function(Bokeh) {\n      Bokeh.set_log_level(\"info\");\n    },\nfunction(Bokeh) {} // ensure no trailing comma for IE\n  ];\n\n  function run_inline_js() {\n    if ((root.Bokeh !== undefined) || (force === true)) {\n      for (var i = 0; i < inline_js.length; i++) {\n        inline_js[i].call(root, root.Bokeh);\n      }\n      // Cache old bokeh versions\n      if (Bokeh != undefined && !reloading) {\n\tvar NewBokeh = root.Bokeh;\n\tif (Bokeh.versions === undefined) {\n\t  Bokeh.versions = new Map();\n\t}\n\tif (NewBokeh.version !== Bokeh.version) {\n\t  Bokeh.versions.set(NewBokeh.version, NewBokeh)\n\t}\n\troot.Bokeh = Bokeh;\n      }} else if (Date.now() < root._bokeh_timeout) {\n      setTimeout(run_inline_js, 100);\n    } else if (!root._bokeh_failed_load) {\n      console.log(\"Bokeh: BokehJS failed to load within specified timeout.\");\n      root._bokeh_failed_load = true;\n    }\n    root._bokeh_is_initializing = false\n  }\n\n  function load_or_wait() {\n    // Implement a backoff loop that tries to ensure we do not load multiple\n    // versions of Bokeh and its dependencies at the same time.\n    // In recent versions we use the root._bokeh_is_initializing flag\n    // to determine whether there is an ongoing attempt to initialize\n    // bokeh, however for backward compatibility we also try to ensure\n    // that we do not start loading a newer (Panel>=1.0 and Bokeh>3) version\n    // before older versions are fully initialized.\n    if (root._bokeh_is_initializing && Date.now() > root._bokeh_timeout) {\n      root._bokeh_is_initializing = false;\n      root._bokeh_onload_callbacks = undefined;\n      console.log(\"Bokeh: BokehJS was loaded multiple times but one version failed to initialize.\");\n      load_or_wait();\n    } else if (root._bokeh_is_initializing || (typeof root._bokeh_is_initializing === \"undefined\" && root._bokeh_onload_callbacks !== undefined)) {\n      setTimeout(load_or_wait, 100);\n    } else {\n      Bokeh = root.Bokeh;\n      bokeh_loaded = Bokeh != null && (Bokeh.version === py_version || (Bokeh.versions !== undefined && Bokeh.versions.has(py_version)));\n      root._bokeh_is_initializing = true\n      root._bokeh_onload_callbacks = []\n      if (!reloading && (!bokeh_loaded || is_dev)) {\n\troot.Bokeh = undefined;\n      }\n      load_libs(css_urls, js_urls, js_modules, js_exports, function() {\n\tconsole.debug(\"Bokeh: BokehJS plotting callback run at\", now());\n\trun_inline_js();\n      });\n    }\n  }\n  // Give older versions of the autoload script a head-start to ensure\n  // they initialize before we start loading newer version.\n  setTimeout(load_or_wait, 100)\n}(window));",
      "application/vnd.holoviews_load.v0+json": ""
     },
     "metadata": {},
     "output_type": "display_data"
    },
    {
     "data": {
      "application/javascript": "\nif ((window.PyViz === undefined) || (window.PyViz instanceof HTMLElement)) {\n  window.PyViz = {comms: {}, comm_status:{}, kernels:{}, receivers: {}, plot_index: []}\n}\n\n\n    function JupyterCommManager() {\n    }\n\n    JupyterCommManager.prototype.register_target = function(plot_id, comm_id, msg_handler) {\n      if (window.comm_manager || ((window.Jupyter !== undefined) && (Jupyter.notebook.kernel != null))) {\n        var comm_manager = window.comm_manager || Jupyter.notebook.kernel.comm_manager;\n        comm_manager.register_target(comm_id, function(comm) {\n          comm.on_msg(msg_handler);\n        });\n      } else if ((plot_id in window.PyViz.kernels) && (window.PyViz.kernels[plot_id])) {\n        window.PyViz.kernels[plot_id].registerCommTarget(comm_id, function(comm) {\n          comm.onMsg = msg_handler;\n        });\n      } else if (typeof google != 'undefined' && google.colab.kernel != null) {\n        google.colab.kernel.comms.registerTarget(comm_id, (comm) => {\n          var messages = comm.messages[Symbol.asyncIterator]();\n          function processIteratorResult(result) {\n            var message = result.value;\n            console.log(message)\n            var content = {data: message.data, comm_id};\n            var buffers = []\n            for (var buffer of message.buffers || []) {\n              buffers.push(new DataView(buffer))\n            }\n            var metadata = message.metadata || {};\n            var msg = {content, buffers, metadata}\n            msg_handler(msg);\n            return messages.next().then(processIteratorResult);\n          }\n          return messages.next().then(processIteratorResult);\n        })\n      }\n    }\n\n    JupyterCommManager.prototype.get_client_comm = function(plot_id, comm_id, msg_handler) {\n      if (comm_id in window.PyViz.comms) {\n        return window.PyViz.comms[comm_id];\n      } else if (window.comm_manager || ((window.Jupyter !== undefined) && (Jupyter.notebook.kernel != null))) {\n        var comm_manager = window.comm_manager || Jupyter.notebook.kernel.comm_manager;\n        var comm = comm_manager.new_comm(comm_id, {}, {}, {}, comm_id);\n        if (msg_handler) {\n          comm.on_msg(msg_handler);\n        }\n      } else if ((plot_id in window.PyViz.kernels) && (window.PyViz.kernels[plot_id])) {\n        var comm = window.PyViz.kernels[plot_id].connectToComm(comm_id);\n        comm.open();\n        if (msg_handler) {\n          comm.onMsg = msg_handler;\n        }\n      } else if (typeof google != 'undefined' && google.colab.kernel != null) {\n        var comm_promise = google.colab.kernel.comms.open(comm_id)\n        comm_promise.then((comm) => {\n          window.PyViz.comms[comm_id] = comm;\n          if (msg_handler) {\n            var messages = comm.messages[Symbol.asyncIterator]();\n            function processIteratorResult(result) {\n              var message = result.value;\n              var content = {data: message.data};\n              var metadata = message.metadata || {comm_id};\n              var msg = {content, metadata}\n              msg_handler(msg);\n              return messages.next().then(processIteratorResult);\n            }\n            return messages.next().then(processIteratorResult);\n          }\n        }) \n        var sendClosure = (data, metadata, buffers, disposeOnDone) => {\n          return comm_promise.then((comm) => {\n            comm.send(data, metadata, buffers, disposeOnDone);\n          });\n        };\n        var comm = {\n          send: sendClosure\n        };\n      }\n      window.PyViz.comms[comm_id] = comm;\n      return comm;\n    }\n    window.PyViz.comm_manager = new JupyterCommManager();\n    \n\n\nvar JS_MIME_TYPE = 'application/javascript';\nvar HTML_MIME_TYPE = 'text/html';\nvar EXEC_MIME_TYPE = 'application/vnd.holoviews_exec.v0+json';\nvar CLASS_NAME = 'output';\n\n/**\n * Render data to the DOM node\n */\nfunction render(props, node) {\n  var div = document.createElement(\"div\");\n  var script = document.createElement(\"script\");\n  node.appendChild(div);\n  node.appendChild(script);\n}\n\n/**\n * Handle when a new output is added\n */\nfunction handle_add_output(event, handle) {\n  var output_area = handle.output_area;\n  var output = handle.output;\n  if ((output.data == undefined) || (!output.data.hasOwnProperty(EXEC_MIME_TYPE))) {\n    return\n  }\n  var id = output.metadata[EXEC_MIME_TYPE][\"id\"];\n  var toinsert = output_area.element.find(\".\" + CLASS_NAME.split(' ')[0]);\n  if (id !== undefined) {\n    var nchildren = toinsert.length;\n    var html_node = toinsert[nchildren-1].children[0];\n    html_node.innerHTML = output.data[HTML_MIME_TYPE];\n    var scripts = [];\n    var nodelist = html_node.querySelectorAll(\"script\");\n    for (var i in nodelist) {\n      if (nodelist.hasOwnProperty(i)) {\n        scripts.push(nodelist[i])\n      }\n    }\n\n    scripts.forEach( function (oldScript) {\n      var newScript = document.createElement(\"script\");\n      var attrs = [];\n      var nodemap = oldScript.attributes;\n      for (var j in nodemap) {\n        if (nodemap.hasOwnProperty(j)) {\n          attrs.push(nodemap[j])\n        }\n      }\n      attrs.forEach(function(attr) { newScript.setAttribute(attr.name, attr.value) });\n      newScript.appendChild(document.createTextNode(oldScript.innerHTML));\n      oldScript.parentNode.replaceChild(newScript, oldScript);\n    });\n    if (JS_MIME_TYPE in output.data) {\n      toinsert[nchildren-1].children[1].textContent = output.data[JS_MIME_TYPE];\n    }\n    output_area._hv_plot_id = id;\n    if ((window.Bokeh !== undefined) && (id in Bokeh.index)) {\n      window.PyViz.plot_index[id] = Bokeh.index[id];\n    } else {\n      window.PyViz.plot_index[id] = null;\n    }\n  } else if (output.metadata[EXEC_MIME_TYPE][\"server_id\"] !== undefined) {\n    var bk_div = document.createElement(\"div\");\n    bk_div.innerHTML = output.data[HTML_MIME_TYPE];\n    var script_attrs = bk_div.children[0].attributes;\n    for (var i = 0; i < script_attrs.length; i++) {\n      toinsert[toinsert.length - 1].childNodes[1].setAttribute(script_attrs[i].name, script_attrs[i].value);\n    }\n    // store reference to server id on output_area\n    output_area._bokeh_server_id = output.metadata[EXEC_MIME_TYPE][\"server_id\"];\n  }\n}\n\n/**\n * Handle when an output is cleared or removed\n */\nfunction handle_clear_output(event, handle) {\n  var id = handle.cell.output_area._hv_plot_id;\n  var server_id = handle.cell.output_area._bokeh_server_id;\n  if (((id === undefined) || !(id in PyViz.plot_index)) && (server_id !== undefined)) { return; }\n  var comm = window.PyViz.comm_manager.get_client_comm(\"hv-extension-comm\", \"hv-extension-comm\", function () {});\n  if (server_id !== null) {\n    comm.send({event_type: 'server_delete', 'id': server_id});\n    return;\n  } else if (comm !== null) {\n    comm.send({event_type: 'delete', 'id': id});\n  }\n  delete PyViz.plot_index[id];\n  if ((window.Bokeh !== undefined) & (id in window.Bokeh.index)) {\n    var doc = window.Bokeh.index[id].model.document\n    doc.clear();\n    const i = window.Bokeh.documents.indexOf(doc);\n    if (i > -1) {\n      window.Bokeh.documents.splice(i, 1);\n    }\n  }\n}\n\n/**\n * Handle kernel restart event\n */\nfunction handle_kernel_cleanup(event, handle) {\n  delete PyViz.comms[\"hv-extension-comm\"];\n  window.PyViz.plot_index = {}\n}\n\n/**\n * Handle update_display_data messages\n */\nfunction handle_update_output(event, handle) {\n  handle_clear_output(event, {cell: {output_area: handle.output_area}})\n  handle_add_output(event, handle)\n}\n\nfunction register_renderer(events, OutputArea) {\n  function append_mime(data, metadata, element) {\n    // create a DOM node to render to\n    var toinsert = this.create_output_subarea(\n    metadata,\n    CLASS_NAME,\n    EXEC_MIME_TYPE\n    );\n    this.keyboard_manager.register_events(toinsert);\n    // Render to node\n    var props = {data: data, metadata: metadata[EXEC_MIME_TYPE]};\n    render(props, toinsert[0]);\n    element.append(toinsert);\n    return toinsert\n  }\n\n  events.on('output_added.OutputArea', handle_add_output);\n  events.on('output_updated.OutputArea', handle_update_output);\n  events.on('clear_output.CodeCell', handle_clear_output);\n  events.on('delete.Cell', handle_clear_output);\n  events.on('kernel_ready.Kernel', handle_kernel_cleanup);\n\n  OutputArea.prototype.register_mime_type(EXEC_MIME_TYPE, append_mime, {\n    safe: true,\n    index: 0\n  });\n}\n\nif (window.Jupyter !== undefined) {\n  try {\n    var events = require('base/js/events');\n    var OutputArea = require('notebook/js/outputarea').OutputArea;\n    if (OutputArea.prototype.mime_types().indexOf(EXEC_MIME_TYPE) == -1) {\n      register_renderer(events, OutputArea);\n    }\n  } catch(err) {\n  }\n}\n",
      "application/vnd.holoviews_load.v0+json": ""
     },
     "metadata": {},
     "output_type": "display_data"
    },
    {
     "data": {
      "text/html": [
       "<style>*[data-root-id],\n",
       "*[data-root-id] > * {\n",
       "  box-sizing: border-box;\n",
       "  font-family: var(--jp-ui-font-family);\n",
       "  font-size: var(--jp-ui-font-size1);\n",
       "  color: var(--vscode-editor-foreground, var(--jp-ui-font-color1));\n",
       "}\n",
       "\n",
       "/* Override VSCode background color */\n",
       ".cell-output-ipywidget-background:has(\n",
       "    > .cell-output-ipywidget-background > .lm-Widget > *[data-root-id]\n",
       "  ),\n",
       ".cell-output-ipywidget-background:has(> .lm-Widget > *[data-root-id]) {\n",
       "  background-color: transparent !important;\n",
       "}\n",
       "</style>"
      ]
     },
     "metadata": {},
     "output_type": "display_data"
    },
    {
     "data": {
      "text/html": [
       "\n",
       "<div class=\"logo-block\">\n",
       "<img src='data:image/png;base64,iVBORw0KGgoAAAANSUhEUgAAAEAAAABACAYAAACqaXHeAAAABHNCSVQICAgIfAhkiAAAAAlwSFlz\n",
       "AAAB+wAAAfsBxc2miwAAABl0RVh0U29mdHdhcmUAd3d3Lmlua3NjYXBlLm9yZ5vuPBoAAA6zSURB\n",
       "VHic7ZtpeFRVmsf/5966taWqUlUJ2UioBBJiIBAwCZtog9IOgjqACsogKtqirT2ttt069nQ/zDzt\n",
       "tI4+CrJIREFaFgWhBXpUNhHZQoKBkIUASchWla1S+3ar7r1nPkDaCAnZKoQP/D7mnPOe9/xy76n3\n",
       "nFSAW9ziFoPFNED2LLK5wcyBDObkb8ZkxuaoSYlI6ZcOKq1eWFdedqNzGHQBk9RMEwFAASkk0Xw3\n",
       "ETacDNi2vtvc7L0ROdw0AjoSotQVkKSvHQz/wRO1lScGModBFbDMaNRN1A4tUBCS3lk7BWhQkgpD\n",
       "lG4852/+7DWr1R3uHAZVQDsbh6ZPN7CyxUrCzJMRouusj0ipRwD2uKm0Zn5d2dFwzX1TCGhnmdGo\n",
       "G62Nna+isiUqhkzuKrkQaJlPEv5mFl2fvGg2t/VnzkEV8F5ioioOEWkLG86fvbpthynjdhXYZziQ\n",
       "x1hC9J2NFyi8vCTt91Fh04KGip0AaG9zuCk2wQCVyoNU3Hjezee9bq92duzzTmxsRJoy+jEZZZYo\n",
       "GTKJ6SJngdJqAfRzpze0+jHreUtPc7gpBLQnIYK6BYp/uGhw9YK688eu7v95ysgshcg9qSLMo3JC\n",
       "4jqLKQFBgdKDPoQ+Pltb8dUyQLpeDjeVgI6EgLIQFT5tEl3rn2losHVsexbZ3EyT9wE1uGdkIPcy\n",
       "BGxn8QUq1QrA5nqW5i2tLqvrrM9NK6AdkVIvL9E9bZL/oyfMVd/jqvc8LylzRBKDJSzIExwhQzuL\n",
       "QYGQj4rHfFTc8mUdu3E7yoLtbTe9gI4EqVgVkug2i5+uXGo919ixbRog+3fTbQ8qJe4ZOYNfMoTI\n",
       "OoshUNosgO60AisX15aeI2PSIp5KiFLI9ubb1vV3Qb2ltwLakUCDAkWX7/nHKRmmGIl9VgYsUhJm\n",
       "2NXjKYADtM1ygne9QQDIXlk49FBstMKx66D1v4+XuQr7vqTe0VcBHQlRWiOCbmmSYe2SqtL6q5rJ\n",
       "zsTb7lKx3FKOYC4DoqyS/B5bvLPxvD9Qtf6saxYLQGJErmDOdOMr/zo96km1nElr8bmPOBwI9COv\n",
       "HnFPRIwmkSOv9kcAS4heRsidOkpeWBgZM+UBrTFAXNYL5Vf2ii9c1trNzpYdaoVil3WIc+wdk+gQ\n",
       "noie3ecCcxt9ITcLAPWt/laGEO/9U6PmzZkenTtsSMQ8uYywJVW+grCstAvCIaAdArAsIWkRDDs/\n",
       "KzLm2YcjY1Lv0UdW73HabE9n6V66cxSzfEmuJssTpKGVp+0vHq73FwL46eOjpMpbRAnNmJFrGJNu\n",
       "Ukf9Yrz+3rghiumCKNXXWPhLYcjxGsIpoCMsIRoFITkW8AuyM8jC1+/QLx4bozCEJIq38+1rtpR6\n",
       "V/yzb8eBlRb3fo5l783N0CWolAzJHaVNzkrTzlEp2bQ2q3TC5gn6wpnoQAmwSiGh2GitnTmVMc5O\n",
       "UyfKWUKCIsU7+fZDKwqdT6DDpvkzAX4/+AMFjk0tDp5GRXLpQ2MUmhgDp5gxQT8+Y7hyPsMi8uxF\n",
       "71H0oebujHALECjFKaW9Lm68n18wXp2kVzIcABytD5iXFzg+WVXkegpAsOOYziqo0OkK76GyquC3\n",
       "ltZAzMhhqlSNmmWTE5T6e3IN05ITFLM4GdN0vtZ3ob8Jh1NAKXFbm5PtLU/eqTSlGjkNAJjdgn/N\n",
       "aedXa0tdi7+t9G0FIF49rtMSEgAs1kDLkTPO7ebm4IUWeyh1bKomXqlgMG6kJmHcSM0clYLJ8XtR\n",
       "1GTnbV3F6I5wCGikAb402npp1h1s7LQUZZSMIfALFOuL3UUrfnS8+rez7v9qcold5tilgHbO1fjK\n",
       "9ubb17u9oshxzMiUBKXWqJNxd+fqb0tLVs4lILFnK71H0Ind7uiPgACVcFJlrb0tV6DzxqqTIhUM\n",
       "CwDf1/rrVhTa33/3pGPxJYdQ2l2cbgVcQSosdx8uqnDtbGjh9SlDVSMNWhlnilfqZk42Th2ZpLpf\n",
       "xrHec5e815zrr0dfBZSwzkZfqsv+1FS1KUknUwPARVvItfKUY+cn57yP7qv07UE3p8B2uhUwLk09\n",
       "e0SCOrK+hbdYHYLjRIl71wWzv9jpEoeOHhGRrJAzyEyNiJuUqX0g2sBN5kGK6y2Blp5M3lsB9Qh4\n",
       "y2Ja6x6+i0ucmKgwMATwhSjdUu49tKrQ/pvN5d53ml2CGwCmJipmKjgmyuaXzNeL2a0AkQ01Th5j\n",
       "2DktO3Jyk8f9vcOBQHV94OK+fPumJmvQHxJoWkaKWq9Vs+yUsbq0zGT1I4RgeH2b5wef7+c7bl8F\n",
       "eKgoHVVZa8ZPEORzR6sT1BzDUAD/d9F78e2Tzv99v8D+fLVTqAKAsbGamKey1Mt9Ann4eH3gTXTz\n",
       "idWtAJ8PQWOk7NzSeQn/OTHDuEikVF1R4z8BQCy+6D1aWRfY0tTGG2OM8rRoPaeIj5ZHzJxszElN\n",
       "VM8K8JS5WOfv8mzRnQAKoEhmt8gyPM4lU9SmBK1MCQBnW4KONT86v1hZ1PbwSXPw4JWussVjtH9Y\n",
       "NCoiL9UoH/6PSu8jFrfY2t36erQHXLIEakMi1SydmzB31h3GGXFDFNPaK8Rme9B79Ixrd0WN+1ij\n",
       "NRQ/doRmuFLBkHSTOm5GruG+pFjFdAmorG4IXH1Qua6ASniclfFtDYt+oUjKipPrCQB7QBQ2lrgP\n",
       "fFzm+9XWUtcqJ3/5vDLDpJ79XHZk3u8nGZ42qlj1+ydtbxysCezrydp6ugmipNJ7WBPB5tydY0jP\n",
       "HaVNzs3QzeE4ZpTbI+ZbnSFPbVOw9vsfnVvqWnirPyCNGD08IlqtYkh2hjZ5dErEQzoNm+6ykyOt\n",
       "Lt5/PQEuSRRKo22VkydK+vvS1XEKlhCJAnsqvcVvH7f/ZU2R67eXbMEGAMiIV5oWZWiWvz5Fv2xG\n",
       "sjqNJQRvn3Rs2lji/lNP19VjAQDgD7FHhujZB9OGqYxRkZxixgRDVlqS6uEOFaJUVu0rPFzctrnF\n",
       "JqijImVp8dEKVWyUXDk92zAuMZ6bFwpBU1HrOw6AdhQgUooChb0+ItMbWJitSo5Ws3IAOGEOtL53\n",
       "0vHZih9sC4vtofZ7Qu6523V/fmGcds1TY3V36pUsBwAbSlxnVh2xLfAD/IAIMDf7XYIkNmXfpp2l\n",
       "18rkAJAy9HKFaIr/qULkeQQKy9zf1JgDB2uaeFNGijo5QsUyacNUUTOnGO42xSnv4oOwpDi1zYkc\n",
       "efUc3I5Gk6PhyTuVKaOGyLUAYPGIoY9Pu/atL/L92+4q9wbflRJ2Trpm/jPjdBtfnqB/dIThcl8A\n",
       "KG7hbRuKnb8qsQsVvVlTrwQAQMUlf3kwJI24Z4JhPMtcfng5GcH49GsrxJpGvvHIaeem2ma+KSjQ\n",
       "lIwUdYyCY8j4dE1KzijNnIP2llF2wcXNnsoapw9XxsgYAl6k+KzUXbi2yP3KR2ecf6z3BFsBICdW\n",
       "nvnIaG3eHybqX7vbpEqUMT+9OL4Qpe8VON7dXuFd39v19FoAABRVePbGGuXTszO0P7tu6lghUonE\n",
       "llRdrhArLvmKdh9u29jcFiRRkfLUxBiFNiqSU9icoZQHo5mYBI1MBgBH6wMNb+U7Pnw337H4gi1Y\n",
       "ciWs+uks3Z9fztUvfzxTm9Ne8XXkvQLHNytOOZeiD4e0PgkAIAYCYknKUNUDSXEKzdWNpnil7r4p\n",
       "xqkjTarZMtk/K8TQ6Qve78qqvXurGwIJqcOUKfUWHsm8KGvxSP68YudXq4pcj39X49uOK2X142O0\n",
       "Tz5/u/7TVybqH0rSya6ZBwD21/gubbrgWdDgEOx9WUhfBaC2ibcEBYm7a7x+ukrBMNcEZggyR0TE\n",
       "T8zUPjikQ4VosQZbTpS4vqizBKvqmvjsqnpfzaZyx9JPiz1/bfGKdgD45XB1zoIMzYbfTdS/NClB\n",
       "Gct0USiY3YL/g0LHy/uq/Ef6uo5+n0R/vyhp17Klpge763f8rMu6YU/zrn2nml+2WtH+Z+5IAAFc\n",
       "2bUTdTDOSNa9+cQY7YLsOIXhevEkCvzph7a8laecz/Un/z4/Ae04XeL3UQb57IwU9ZDr9UuKVajv\n",
       "nxp1+1UVIo/LjztZkKH59fO3G/JemqCfmaCRqbqbd90ZZ8FfjtkfAyD0J/9+C2h1hDwsSxvGjNDc\n",
       "b4zk5NfrSwiQblLHzZhg+Jf4aPlUwpDqkQqa9nimbt1/TDH8OitGMaQnj+RJS6B1fbF7SY1TqO5v\n",
       "/v0WAADl1f7zokgS7s7VT2DZ7pegUjBM7mjtiDZbcN4j0YrHH0rXpCtY0qPX0cVL0rv5jv/ZXend\n",
       "0u/EESYBAFBU4T4Qa5TflZOhTe7pmKpaP8kCVUVw1+yhXfJWvn1P3hnXi33JsTN6PnP3hHZ8Z3/h\n",
       "aLHzmkNPuPj7Bc/F/Q38CwjTpSwQXgE4Vmwry9tpfq/ZFgqFMy4AVDtCvi8rvMvOmv0N4YwbVgEA\n",
       "sPM72/KVnzfspmH7HQGCRLG2yL1+z8XwvPcdCbsAANh+xPzstgMtxeGKt+6MK3/tacfvwhWvIwMi\n",
       "oKEBtm0H7W+UVfkc/Y1V0BhoPlDr/w1w/eu1vjIgAgDg22OtX6/eYfnEz/focrZTHAFR+PSs56/7\n",
       "q32nwpjazxgwAQCwcU/T62t3WL7r6/jVRa6/byp1rei+Z98ZUAEAhEPHPc8fKnTU9nbgtnOe8h0l\n",
       "9hcGIqmODLQAHCy2Xti6v/XNRivf43f4fFvIteu854+VHnR7q9tfBlwAAGz+pnndB9vM26UebAe8\n",
       "SLHujPOTPVW+rwY+sxskAAC2HrA8t2Vvc7ffP1r9o+vwR2dcr92InIAbKKC1FZ5tB1tf+/G8p8sv\n",
       "N/9Q5zd/XR34LYCwV5JdccMEAMDBk45DH243r/X4xGvqxFa/GNpS7n6rwOwNWwHVE26oAADYurf1\n",
       "zx/utOzt+DMKYM0p17YtZZ5VNzqfsB2HewG1WXE8PoZ7gOclbTIvynZf9JV+fqZtfgs/8F/Nu5rB\n",
       "EIBmJ+8QRMmpU7EzGRsf2FzuePqYRbzh/zE26EwdrT10f6r6o8HOYzCJB9Dpff8tbnGLG8L/A/WE\n",
       "roTBs2RqAAAAAElFTkSuQmCC'\n",
       "     style='height:25px; border-radius:12px; display: inline-block; float: left; vertical-align: middle'></img>\n",
       "\n",
       "\n",
       "\n",
       "\n",
       "  <img src='data:image/png;base64,iVBORw0KGgoAAAANSUhEUgAAACAAAAAgCAYAAABzenr0AAAABHNCSVQICAgIfAhkiAAAAAlwSFlz\n",
       "AAAFMAAABTABZarKtgAAABl0RVh0U29mdHdhcmUAd3d3Lmlua3NjYXBlLm9yZ5vuPBoAAArNSURB\n",
       "VFiFnVd5VFNXGv/ee0kgGyQhbFoXIKCFYEXEDVErTucMoKUOWA/VLsNSLPQgFTOdyrHPiIp1lFIQ\n",
       "OlaPShEG3EpPcQmISCuV1bQ1CLKIULeQhJA9JO+9+UMT0x5aPfOdc895373f/e7v/t537/ddBF5Q\n",
       "JBIJl81mJwCACEVRQBCEQhAEAQCgnghCURRCkmS7Wq2+WlJSYn0Rv8jzDHAcD0EQJIVGo5mFQuGF\n",
       "jIyMu39kq1KpkOrq6gU6nS6aIAiGzWY7VVBQ0P9/AcjNzWXy+fxcOp2uiY+Przm0d6+n8dblv/Fo\n",
       "kzM4SzYfPlRePvFnjnt6ehh1dXVv2mw2nlar/byoqMj8wgBwHBchCJIZEhJSeu1yHVi7vtu02t8+\n",
       "NykQ7BMWoOUMhXQsXLv5IQAwSJJEEASxcDicoeTk5DtCoZBy9XX69Gnv3t7ebJIky3EcH3guAKlU\n",
       "GoGiaOKWLVsOvhs7/9XXPMde3/IyIFbMnaPDuD5AUdQuOf2XlD0npTExMWYAgNbWVpZcLg8xGAzB\n",
       "JEnSvby82tPT052LaTQatLy8fBtJkt/s3Lnz5h8CwHFcRKPRNu/YsePAjh072KTs0IGCxRg8RgUB\n",
       "TGpSx6cmHgMAfNqN6Xa1GvJ/D35gYAAViURkcXHxUrPZHDRv3rxv4uLiDI7xPXv2bLdYLBUFBQWD\n",
       "jj7M8ZGbm8tkMpmSrKysQiaTScXGxtpqL7dManT6tcu5mgEWWJyOhicozpk+c3NsbKzNFcBbWWEf\n",
       "1Td9/upA30i3ZJv0h8bGxiSFQmFcuHDhOACAWCy+0d3dvX3lypUtzc3N9t8AiIuLk4SEhByLiooy\n",
       "AgAcO3ZsNlPgH3Cttb35JZo+bCYXIQAA9MDiUW7sWS1KN687w6Mera2twa2trfMvXboUOS28Pyb1\n",
       "U08McRtf/sXBSmt5cc35pqamVQqFwhoZGallMpnU/fv3e7RaberVq1d/AABAn1IfQqfTNRs3blQB\n",
       "AFy+fJk7Nja2XCKRnD3dNSorusPq6NfTPR+gPiEEoLRFXO1tS2+zavv27ReftjNttyr0S1/j0rUP\n",
       "PEJQwNwQYGgAACQSyXmNRhMtk8lYAAApKSlKDMP0+fn5QU4ACIKkxMfH1zjYuHnz5uspKSlOfdX7\n",
       "u68fvOePcCzKQR4YVCgATGfa/F3pnzaHWOAXSDyaMCqH2+r8VXErP3D+snXr1tV2dXW94dATExOr\n",
       "6XT6JgAAVCKRcDEMM4WHh9sAAHJyUqNu//wDymKx7AAAVVVVPiaTKXxByrYMvBsxEMSTwPXhuL+8\n",
       "e/fu9fv371+flvbemogYNz+TnsBOFEwMFO8/KzEYDKFVVVX+AAChoaGT7u7ud48ePRro0DEMs+bl\n",
       "5bFRNpud4O3tfdGBzq5uy/5wTUPM/q2zC9atmbVqeHg4Pi0t7WxGRoZFH5rw76I7LI8HqHfwPL7d\n",
       "rfVagzw1NfW81t4ePUfsP/OrnWZ6fPSuUqFQSEkkkrOjo6OvuQR5q0ajiXLoPj4+lzgcTjwKACLH\n",
       "9SqXy2kzhBO8haGo+UA2wZW+p880DxeveGt9aHx9fT09ctlq3sC0NT9e6xsbjuZblSxl7wKtVotM\n",
       "m6PnXvlmZJBtX91CEMQsxyJsNlteXl4udugIghAajQYFAEhPTx9AEGQOimGY8y4oLt63KlJkdB4t\n",
       "P282Z/c/dPrDH04ktJ9P2tfWXP3+2o1vHzunEp6Xq0lsGt08KzUrcSGTQ3n3XeefLCs5UqnT6Rap\n",
       "VCoEACA7O/snvV4f5gJooLa2NsihoygKKEVRzquTND2OCpttGXdG1tOxwOlgzdvE9v30rV+m3W5I\n",
       "2jfJNQmLH85QUUzPNTwvkAx0+vVGhq2/VV9fT+dyuZ01NTXOXQOA3fGxevXq2waDYY5r8KIoij5b\n",
       "jzB5Cz2oKdOo0erOm+1tVuVtBMZXElNMRJR1fvvjx9iPLQ/RjpuB0Xu/Vp7YmH1864YNG3oNBkPw\n",
       "VD7mzp1rJUnSzZUBmqsBggAgGFC/n6jVA+3WoN3tu1Gg39cg2tEx1Cg3CIJHsclxnl2HRorMN8Z0\n",
       "fRW+vr7GJ36Q56Z5h9BIknzGAMJWtvdQYs0EZe3/FSwqk5tpXEMb1JoYD+n8xRdQJl/fMPEgzKhS\n",
       "L40KCD7lGzg92qIyovpb3y/msT2un2psvFpWVvYyl8vtc1nDSXFXV5c7iqLOtEyS5LNBAADfWeKm\n",
       "Ly4uuvR1++sfv51/P5sfnHm2/Iy+mBmwsaHJbpt+Q0jHSS7TZ/PSNVkNJ/973OxtemD1s91CPb12\n",
       "h9MfvZsk5meo1eqo5ORkxTNWn7HR1tY2l8PhOAsUiqIolCRJcETtv/61qzNySYK5trZ2TCgUUiwW\n",
       "S1FSUhLR+bA/kAzwXcAbHa/cFhrTXrJ/v+7IkSPu3Je4Xm5eboJv2wba5QbO5fQwxhsP679Y+nFO\n",
       "jgAAoKSkJILFYjnBGI1G0YYNGwYBnqRoiqIQlKKojurq6gUAAAKBgKQoiuGYkJWVpTCZTOKmI1Xd\n",
       "HwnDcm+cOnOMw+H0FxYWbqpvqv/r9EV+bky+O+/QoUPiqJRt9JphTLFHbKBCR87tWL9EPN9oNIZn\n",
       "ZWUpXHaMCQQCEgCgsrIyEgBuoGq1+qpOp4t2GPH5/BvFxcVLHXpgYGDD8ePH/56Xl2cCAMjMzOxP\n",
       "S0s7pWfow4RCbz/fAF9RT0+P9yeffHJySSqev+9nxLD1FaAlTR8vlJ8vxxzsFhUVLRMIBB0OvwaD\n",
       "YRlFUdfQkpISK0EQ9J6eHgYAQEZGxl2z2Rw0MjJCBwBITk5+xOVyfzpw4ECSw5lQKKQIbxtJm4EN\n",
       "8eZ7jPz0oNv+dK5FG/jq54eH+IFr/S1KabBy0UerAvI+++wzD4vFEpCWljYEACCTyVh2ux3FcXwS\n",
       "BQCw2WxVdXV1bzrQRURE1FVVVTn1zMzM/pkzZ35/9OjRd0pLS19RqVQIy4/tCwDgOcPTQvFQEQBA\n",
       "aWnpK0ERK2LbyVllN341GUJ4YDu8zD5bKyur7O+85tx9Z2fnO1ar9QjA04KkpaVFs2LFir8olcq7\n",
       "YWFhJpFINNnX16drbGyMjY6Ovg0AIBaLjcuXL5d3d3d7XbhwIW704b3F479MeD1qVfJ5Og/bvb4R\n",
       "LwaDMZabm9uwflNa/z/3HOIv5NsDEK7XS7FeevXPvYNLvm5S/GglCK5KpZorlUobXE8g5ObmMqVS\n",
       "6UG1Wu1BURSHoijOiRMnwgoLC7coFAqBo+9Fm0KhEKStmvvto3TeucFN7pVJYbytarXaQyqVHsRx\n",
       "3N15TF1BuBaljr4rV66wOzo63mAymXdzcnKuwwtIUVHRMqvVGkgQxMV7NXvyJijGvcNXB/7z5Zdf\n",
       "bicI4gSO40NTAgD4bVnuODIAT2pElUq1FEEQO4fD6QsPD++fqixHEATj8/ntjoCrqKhwS0hIsJWV\n",
       "leURBHEOx3G563pT3tn5+flBDAbjg6CgoMMpKSlK17GhoSFMJpMFPk04DJIkEQzDzCwW6+5UD5Oa\n",
       "mhrfO3fufECS5GHXnf8pAAAAHMfdURTdimGYPjExsTo0NHTyj2ynEplMxurs7HyHIAiKJMlSHMct\n",
       "U9k9N2vl5+cH0en0TRiGWX18fC65vnh+LxqNBq2oqFhgMpmi7XY7arVaj+zdu/fxn/l/4bSZl5fH\n",
       "5nK5CQAQMtXznCRJePpEbwOAZhzHX4ix/wHzzC/tu64gcwAAAABJRU5ErkJggg=='\n",
       "       style='height:15px; border-radius:12px; display: inline-block; float: left'></img>\n",
       "  \n",
       "\n",
       "\n",
       "</div>\n"
      ]
     },
     "metadata": {},
     "output_type": "display_data"
    }
   ],
   "source": [
    "import numpy as np\n",
    "import pandas as pd\n",
    "import xarray as xr\n",
    "import scipy.linalg\n",
    "import scipy.stats\n",
    "from scipy.stats import pearsonr, zscore\n",
    "from scipy.spatial.distance import pdist, cdist, squareform\n",
    "\n",
    "from sklearn import clone\n",
    "from sklearn.linear_model import LinearRegression\n",
    "from sklearn.model_selection import cross_validate, ShuffleSplit\n",
    "\n",
    "from gemmr.data import load_outcomes, print_ds_stats\n",
    "from gemmr.metrics import *\n",
    "from gemmr.sample_size.interpolation import *\n",
    "from gemmr.plot import heatmap_n_req\n",
    "from gemmr.util import nPerFtr2n, subset_ds\n",
    "\n",
    "import matplotlib\n",
    "import holoviews as hv\n",
    "from holoviews import opts\n",
    "hv.extension('matplotlib')\n",
    "hv.renderer('matplotlib').param.set_param(dpi=120)\n",
    "\n",
    "from my_config import *\n",
    "\n",
    "import warnings\n",
    "from matplotlib import MatplotlibDeprecationWarning\n",
    "warnings.simplefilter('ignore', MatplotlibDeprecationWarning)\n",
    "warnings.filterwarnings(\n",
    "    'ignore', 'aspect is not supported for Axes with xscale=log, yscale=linear', category=UserWarning\n",
    ")  # holoviews emits this for log-linear plots"
   ]
  },
  {
   "cell_type": "code",
   "execution_count": 2,
   "metadata": {},
   "outputs": [
    {
     "name": "stdout",
     "output_type": "stream",
     "text": [
      "Loading data from subfolder 'gemmr_latest'\n",
      "Loading data from subfolder 'gemmr_latest'\n"
     ]
    }
   ],
   "source": [
    "data_home = None\n",
    "ds_cca = load_outcomes('sweep_cca_cca_random_sum+-3+0_wOtherModel', data_home=data_home).sel(mode=0)\n",
    "ds_pls = load_outcomes('sweep_pls_pls_random_sum+-3+0_wOtherModel', data_home=data_home).sel(mode=0)"
   ]
  },
  {
   "cell_type": "code",
   "execution_count": 5,
   "metadata": {},
   "outputs": [],
   "source": [
    "ds_cca = ds_cca.sel(px=ds_cca.px < 128)\n",
    "ds_pls = ds_pls.sel(px=ds_pls.px < 128)"
   ]
  },
  {
   "cell_type": "code",
   "execution_count": 6,
   "metadata": {},
   "outputs": [],
   "source": [
    "ds_cca = subset_ds(ds_cca, n_keep=25)\n",
    "ds_pls = subset_ds(ds_pls, n_keep=25)"
   ]
  },
  {
   "cell_type": "markdown",
   "metadata": {},
   "source": [
    "What's in the outcome data file?"
   ]
  },
  {
   "cell_type": "code",
   "execution_count": 7,
   "metadata": {},
   "outputs": [
    {
     "name": "stdout",
     "output_type": "stream",
     "text": [
      "n_rep\t\t 100\n",
      "n_per_ftr\t [   3    4    8   16   32   64  128  256  512 1024 2048 4096 8192]\n",
      "r\t\t [0.1 0.3 0.5 0.7]\n",
      "px\t\t [ 2  4  8 16 32 64]\n",
      "ax+ay range\t(-2.97, -0.10)\n",
      "py\t\t== px\n",
      "\n",
      "<xarray.DataArray 'n_Sigmas' (px: 6, r: 4)>\n",
      "array([[25, 25, 25, 25],\n",
      "       [25, 25, 25, 25],\n",
      "       [25, 25, 25, 25],\n",
      "       [25, 25, 25, 25],\n",
      "       [25, 25, 25, 25],\n",
      "       [ 0, 25, 25, 25]])\n",
      "Coordinates:\n",
      "  * r        (r) float64 0.1 0.3 0.5 0.7\n",
      "  * px       (px) int64 2 4 8 16 32 64\n",
      "\n",
      "power\t\tcalculated\n"
     ]
    }
   ],
   "source": [
    "print_ds_stats(ds_cca)"
   ]
  },
  {
   "cell_type": "code",
   "execution_count": 8,
   "metadata": {
    "tags": []
   },
   "outputs": [
    {
     "name": "stdout",
     "output_type": "stream",
     "text": [
      "n_rep\t\t 100\n",
      "n_per_ftr\t [   3    4    8   16   32   64  128  256  512 1024 2048 4096 8192]\n",
      "r\t\t [0.1 0.3 0.5 0.7]\n",
      "px\t\t [ 2  4  8 16 32 64]\n",
      "ax+ay range\t(-2.97, -0.10)\n",
      "py\t\t== px\n",
      "\n",
      "<xarray.DataArray 'n_Sigmas' (px: 6, r: 4)>\n",
      "array([[25, 25, 25, 25],\n",
      "       [25, 25, 25, 25],\n",
      "       [25, 25, 25, 25],\n",
      "       [ 0, 25, 25, 25],\n",
      "       [ 0, 25, 25, 25],\n",
      "       [ 0,  0,  0, 21]])\n",
      "Coordinates:\n",
      "  * r        (r) float64 0.1 0.3 0.5 0.7\n",
      "  * px       (px) int64 2 4 8 16 32 64\n",
      "\n",
      "power\t\tcalculated\n"
     ]
    }
   ],
   "source": [
    "print_ds_stats(ds_pls)"
   ]
  },
  {
   "cell_type": "code",
   "execution_count": 9,
   "metadata": {},
   "outputs": [],
   "source": [
    "assert np.all(np.isnan(ds_pls.py) | (ds_pls.py == ds_pls.px))"
   ]
  },
  {
   "cell_type": "markdown",
   "metadata": {},
   "source": [
    "## Determine required sample sizes for different values of $a_X + a_Y$"
   ]
  },
  {
   "cell_type": "code",
   "execution_count": 10,
   "metadata": {
    "tags": []
   },
   "outputs": [],
   "source": [
    "def plot_powerlaw_dependence(ds, tol=.5, qs=(.025, .975), sublabel_skip=0):\n",
    "\n",
    "    axPlusy = ds.ax + ds.ay\n",
    "\n",
    "    panels = {r: hv.Overlay() for r in ds.r.values}\n",
    "    for target_axPlusy in [-2.5, -1.5, -.5]:\n",
    "        ds_cond = ds.where(np.abs(axPlusy - (target_axPlusy)) < tol).dropna('Sigma_id', 'all')\n",
    "        n_req = calc_n_required_all_metrics(ds_cond, search_dim='n_per_ftr')['combined']\n",
    "        n_req = n_req.assign_coords(px=2*n_req.px).rename(px='ptot')  # assumes py == px\n",
    "        print(n_req.count('Sigma_id').values)\n",
    "        n_req_mean = n_req.mean('Sigma_id')\n",
    "        for r in n_req.r.values:\n",
    "            panels[r] *= hv.Curve(n_req_mean.sel(r=r))\n",
    "\n",
    "    # --- assemble figure\n",
    "\n",
    "    clrs = hv.Palette('Dark2', samples=8).values[:3]\n",
    "\n",
    "    fig = (\n",
    "        (\n",
    "            panels[0.1]\n",
    "            * hv.Text(75, 10*(1.75)**2, '-2.5', fontsize=7, halign='right', valign='bottom').opts(color=clrs[0])\n",
    "            * hv.Text(75, 10*(1.75)**1, '-1.5', fontsize=7, halign='right', valign='bottom').opts(color=clrs[1])\n",
    "            * hv.Text(75, 10*(1.75)**0, '-0.5', fontsize=7, halign='right', valign='bottom').opts(color=clrs[2])\n",
    "            * hv.Text(100, 10*(1.75)**3, '$a_x+a_y$', fontsize=7, halign='right', valign='bottom')\n",
    "        ).relabel('$r_\\mathrm{true}=0.1$')\n",
    "        + panels[0.3].opts(ylabel='', ).relabel('$r_\\mathrm{true}=0.3$')\n",
    "        + panels[0.5].opts(ylabel='', ).relabel('$r_\\mathrm{true}=0.5$')\n",
    "        + panels[0.7].opts(ylabel='', ).relabel('$r_\\mathrm{true}=0.7$')\n",
    "    ).redim(\n",
    "        ptot='Number of features',\n",
    "        n_per_ftr_required='Req. sample size per ftr'\n",
    "    ).cols(\n",
    "        4\n",
    "    ).opts(*fig_opts).opts(\n",
    "        opts.Curve(color=hv.Cycle(clrs)),\n",
    "        opts.Overlay(logx=True, logy=True),\n",
    "        opts.Layout(fig_inches=(7, None), sublabel_position=(-.35, .95), sublabel_format=\"{alpha}\")\n",
    "    )\n",
    "\n",
    "    return fig"
   ]
  },
  {
   "cell_type": "code",
   "execution_count": 11,
   "metadata": {},
   "outputs": [
    {
     "name": "stdout",
     "output_type": "stream",
     "text": [
      "[[10 10 10 10]\n",
      " [10 10  9  9]\n",
      " [10 10 10 10]\n",
      " [ 7 10 10 10]\n",
      " [ 7  8  9 10]\n",
      " [ 0  6  6  8]]\n",
      "[[8 8 8 8]\n",
      " [8 8 8 8]\n",
      " [8 8 8 8]\n",
      " [8 8 8 8]\n",
      " [8 8 8 8]\n",
      " [0 8 8 8]]\n",
      "[[7 7 7 7]\n",
      " [6 7 7 7]\n",
      " [7 7 7 7]\n",
      " [7 7 7 7]\n",
      " [7 7 7 7]\n",
      " [0 7 7 7]]\n",
      "[[10 10  9 10]\n",
      " [ 9  9  9  9]\n",
      " [10 10 10 10]\n",
      " [ 0 10 10  9]\n",
      " [ 0  6  7  4]\n",
      " [ 0  0  0  2]]\n",
      "[[ 8  8  8  8]\n",
      " [ 8  8  7  8]\n",
      " [ 8  8  8  8]\n",
      " [ 0  8  8  8]\n",
      " [ 0  8  8 10]\n",
      " [ 0  0  0  7]]\n",
      "[[ 7  7  7  7]\n",
      " [ 7  7  7  7]\n",
      " [ 7  7  7  7]\n",
      " [ 0  7  7  7]\n",
      " [ 0  7  8 11]\n",
      " [ 0  0  0 11]]\n"
     ]
    },
    {
     "data": {
      "text/html": [
       "<img src='data:image/png;base64,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' style='max-width:100%; margin: auto; display: block; '/>"
      ],
      "text/plain": [
       ":Layout\n",
       "   .Overlay.R_reverse_over_mathrm_left_curly_bracket_true_right_curly_bracket_equals_0_full_stop_1 :Overlay\n",
       "      .Curve.I   :Curve   [Number of features]   (Req. sample size per ftr)\n",
       "      .Curve.II  :Curve   [Number of features]   (Req. sample size per ftr)\n",
       "      .Curve.III :Curve   [Number of features]   (Req. sample size per ftr)\n",
       "      .Text.I    :Text   [x,y]\n",
       "      .Text.II   :Text   [x,y]\n",
       "      .Text.III  :Text   [x,y]\n",
       "      .Text.IV   :Text   [x,y]\n",
       "   .Overlay.R_reverse_over_mathrm_left_curly_bracket_true_right_curly_bracket_equals_0_full_stop_3 :Overlay\n",
       "      .Curve.I   :Curve   [Number of features]   (Req. sample size per ftr)\n",
       "      .Curve.II  :Curve   [Number of features]   (Req. sample size per ftr)\n",
       "      .Curve.III :Curve   [Number of features]   (Req. sample size per ftr)\n",
       "   .Overlay.R_reverse_over_mathrm_left_curly_bracket_true_right_curly_bracket_equals_0_full_stop_5 :Overlay\n",
       "      .Curve.I   :Curve   [Number of features]   (Req. sample size per ftr)\n",
       "      .Curve.II  :Curve   [Number of features]   (Req. sample size per ftr)\n",
       "      .Curve.III :Curve   [Number of features]   (Req. sample size per ftr)\n",
       "   .Overlay.R_reverse_over_mathrm_left_curly_bracket_true_right_curly_bracket_equals_0_full_stop_7 :Overlay\n",
       "      .Curve.I   :Curve   [Number of features]   (Req. sample size per ftr)\n",
       "      .Curve.II  :Curve   [Number of features]   (Req. sample size per ftr)\n",
       "      .Curve.III :Curve   [Number of features]   (Req. sample size per ftr)\n",
       "   .Overlay.I                                                                                      :Overlay\n",
       "      .Curve.I   :Curve   [Number of features]   (Req. sample size per ftr)\n",
       "      .Curve.II  :Curve   [Number of features]   (Req. sample size per ftr)\n",
       "      .Curve.III :Curve   [Number of features]   (Req. sample size per ftr)\n",
       "      .Text.I    :Text   [x,y]\n",
       "      .Text.II   :Text   [x,y]\n",
       "      .Text.III  :Text   [x,y]\n",
       "      .Text.IV   :Text   [x,y]\n",
       "   .Overlay.II                                                                                     :Overlay\n",
       "      .Curve.I   :Curve   [Number of features]   (Req. sample size per ftr)\n",
       "      .Curve.II  :Curve   [Number of features]   (Req. sample size per ftr)\n",
       "      .Curve.III :Curve   [Number of features]   (Req. sample size per ftr)\n",
       "   .Overlay.III                                                                                    :Overlay\n",
       "      .Curve.I   :Curve   [Number of features]   (Req. sample size per ftr)\n",
       "      .Curve.II  :Curve   [Number of features]   (Req. sample size per ftr)\n",
       "      .Curve.III :Curve   [Number of features]   (Req. sample size per ftr)\n",
       "   .Overlay.IV                                                                                     :Overlay\n",
       "      .Curve.I   :Curve   [Number of features]   (Req. sample size per ftr)\n",
       "      .Curve.II  :Curve   [Number of features]   (Req. sample size per ftr)\n",
       "      .Curve.III :Curve   [Number of features]   (Req. sample size per ftr)"
      ]
     },
     "execution_count": 11,
     "metadata": {
      "application/vnd.holoviews_exec.v0+json": {}
     },
     "output_type": "execute_result"
    }
   ],
   "source": [
    "fig_cca = plot_powerlaw_dependence(ds_cca, sublabel_skip=4)\n",
    "fig_pls = plot_powerlaw_dependence(ds_pls, sublabel_skip=8)\n",
    "\n",
    "fig = (\n",
    "    fig_cca\n",
    "    + fig_pls\n",
    ").cols(\n",
    "    4\n",
    ").opts(*fig_opts).opts(\n",
    "    opts.Layout(fig_inches=(7, None), sublabel_position=(-.35, .95), sublabel_format=\"{alpha}\")\n",
    ")\n",
    "\n",
    "hv.save(fig, 'fig/figS_powerlaw_dependence.pdf')\n",
    "\n",
    "fig"
   ]
  }
 ],
 "metadata": {
  "interpreter": {
   "hash": "353a147e3613e6b917b871b1c7403ff166c02a1998fca17dbe62e70053517a56"
  },
  "kernelspec": {
   "display_name": "Python 3.7.7 64-bit ('gemmr': conda)",
   "name": "python3"
  },
  "language_info": {
   "codemirror_mode": {
    "name": "ipython",
    "version": 3
   },
   "file_extension": ".py",
   "mimetype": "text/x-python",
   "name": "python",
   "nbconvert_exporter": "python",
   "pygments_lexer": "ipython3",
   "version": "3.8.18"
  }
 },
 "nbformat": 4,
 "nbformat_minor": 4
}
